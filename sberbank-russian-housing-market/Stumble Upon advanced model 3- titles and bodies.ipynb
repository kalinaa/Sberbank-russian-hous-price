{
 "cells": [
  {
   "cell_type": "markdown",
   "id": "c4b569e1",
   "metadata": {},
   "source": [
    "### Importovanje biblioteka i podataka"
   ]
  },
  {
   "cell_type": "code",
   "execution_count": 1,
   "id": "9c1957ab",
   "metadata": {},
   "outputs": [],
   "source": [
    "import numpy as np\n",
    "import pandas as pd\n",
    "import matplotlib.pyplot as plt\n",
    "import seaborn as sns\n",
    "import scikitplot as skplt\n",
    "from scipy import stats\n",
    "%matplotlib inline\n",
    "import warnings\n",
    "warnings.filterwarnings('ignore')\n",
    "\n",
    "from sklearn.preprocessing import OneHotEncoder\n",
    "from sklearn.pipeline import Pipeline\n",
    "from sklearn.compose import ColumnTransformer\n",
    "from sklearn.base import TransformerMixin\n",
    "from sklearn.base import BaseEstimator, clone\n",
    "\n",
    "from sklearn import model_selection, preprocessing\n",
    "from sklearn.model_selection import train_test_split\n",
    "from sklearn.preprocessing import MinMaxScaler\n",
    "from sklearn.metrics import roc_auc_score\n",
    "\n",
    "from sklearn.feature_extraction.text import CountVectorizer\n",
    "\n",
    "from sklearn.linear_model import LogisticRegression"
   ]
  },
  {
   "cell_type": "code",
   "execution_count": 2,
   "id": "9bcdc39c",
   "metadata": {},
   "outputs": [],
   "source": [
    "pd.set_option(\"display.max_columns\", 30)"
   ]
  },
  {
   "cell_type": "code",
   "execution_count": 3,
   "id": "f5168426",
   "metadata": {},
   "outputs": [
    {
     "data": {
      "text/html": [
       "<div>\n",
       "<style scoped>\n",
       "    .dataframe tbody tr th:only-of-type {\n",
       "        vertical-align: middle;\n",
       "    }\n",
       "\n",
       "    .dataframe tbody tr th {\n",
       "        vertical-align: top;\n",
       "    }\n",
       "\n",
       "    .dataframe thead th {\n",
       "        text-align: right;\n",
       "    }\n",
       "</style>\n",
       "<table border=\"1\" class=\"dataframe\">\n",
       "  <thead>\n",
       "    <tr style=\"text-align: right;\">\n",
       "      <th></th>\n",
       "      <th>url</th>\n",
       "      <th>urlid</th>\n",
       "      <th>boilerplate</th>\n",
       "      <th>alchemy_category</th>\n",
       "      <th>alchemy_category_score</th>\n",
       "      <th>avglinksize</th>\n",
       "      <th>commonlinkratio_1</th>\n",
       "      <th>commonlinkratio_2</th>\n",
       "      <th>commonlinkratio_3</th>\n",
       "      <th>commonlinkratio_4</th>\n",
       "      <th>compression_ratio</th>\n",
       "      <th>embed_ratio</th>\n",
       "      <th>framebased</th>\n",
       "      <th>frameTagRatio</th>\n",
       "      <th>hasDomainLink</th>\n",
       "      <th>html_ratio</th>\n",
       "      <th>image_ratio</th>\n",
       "      <th>is_news</th>\n",
       "      <th>lengthyLinkDomain</th>\n",
       "      <th>linkwordscore</th>\n",
       "      <th>news_front_page</th>\n",
       "      <th>non_markup_alphanum_characters</th>\n",
       "      <th>numberOfLinks</th>\n",
       "      <th>numwords_in_url</th>\n",
       "      <th>parametrizedLinkRatio</th>\n",
       "      <th>spelling_errors_ratio</th>\n",
       "      <th>label</th>\n",
       "    </tr>\n",
       "  </thead>\n",
       "  <tbody>\n",
       "    <tr>\n",
       "      <th>0</th>\n",
       "      <td>http://www.bloomberg.com/news/2010-12-23/ibm-p...</td>\n",
       "      <td>4042</td>\n",
       "      <td>{\"title\":\"IBM Sees Holographic Calls Air Breat...</td>\n",
       "      <td>business</td>\n",
       "      <td>0.789131</td>\n",
       "      <td>2.055556</td>\n",
       "      <td>0.676471</td>\n",
       "      <td>0.205882</td>\n",
       "      <td>0.047059</td>\n",
       "      <td>0.023529</td>\n",
       "      <td>0.443783</td>\n",
       "      <td>0.0</td>\n",
       "      <td>0</td>\n",
       "      <td>0.090774</td>\n",
       "      <td>0</td>\n",
       "      <td>0.245831</td>\n",
       "      <td>0.003883</td>\n",
       "      <td>1</td>\n",
       "      <td>1</td>\n",
       "      <td>24</td>\n",
       "      <td>0</td>\n",
       "      <td>5424</td>\n",
       "      <td>170</td>\n",
       "      <td>8</td>\n",
       "      <td>0.152941</td>\n",
       "      <td>0.079130</td>\n",
       "      <td>0</td>\n",
       "    </tr>\n",
       "    <tr>\n",
       "      <th>1</th>\n",
       "      <td>http://www.popsci.com/technology/article/2012-...</td>\n",
       "      <td>8471</td>\n",
       "      <td>{\"title\":\"The Fully Electronic Futuristic Star...</td>\n",
       "      <td>recreation</td>\n",
       "      <td>0.574147</td>\n",
       "      <td>3.677966</td>\n",
       "      <td>0.508021</td>\n",
       "      <td>0.288770</td>\n",
       "      <td>0.213904</td>\n",
       "      <td>0.144385</td>\n",
       "      <td>0.468649</td>\n",
       "      <td>0.0</td>\n",
       "      <td>0</td>\n",
       "      <td>0.098707</td>\n",
       "      <td>0</td>\n",
       "      <td>0.203490</td>\n",
       "      <td>0.088652</td>\n",
       "      <td>1</td>\n",
       "      <td>1</td>\n",
       "      <td>40</td>\n",
       "      <td>0</td>\n",
       "      <td>4973</td>\n",
       "      <td>187</td>\n",
       "      <td>9</td>\n",
       "      <td>0.181818</td>\n",
       "      <td>0.125448</td>\n",
       "      <td>1</td>\n",
       "    </tr>\n",
       "    <tr>\n",
       "      <th>2</th>\n",
       "      <td>http://www.menshealth.com/health/flu-fighting-...</td>\n",
       "      <td>1164</td>\n",
       "      <td>{\"title\":\"Fruits that Fight the Flu fruits tha...</td>\n",
       "      <td>health</td>\n",
       "      <td>0.996526</td>\n",
       "      <td>2.382883</td>\n",
       "      <td>0.562016</td>\n",
       "      <td>0.321705</td>\n",
       "      <td>0.120155</td>\n",
       "      <td>0.042636</td>\n",
       "      <td>0.525448</td>\n",
       "      <td>0.0</td>\n",
       "      <td>0</td>\n",
       "      <td>0.072448</td>\n",
       "      <td>0</td>\n",
       "      <td>0.226402</td>\n",
       "      <td>0.120536</td>\n",
       "      <td>1</td>\n",
       "      <td>1</td>\n",
       "      <td>55</td>\n",
       "      <td>0</td>\n",
       "      <td>2240</td>\n",
       "      <td>258</td>\n",
       "      <td>11</td>\n",
       "      <td>0.166667</td>\n",
       "      <td>0.057613</td>\n",
       "      <td>1</td>\n",
       "    </tr>\n",
       "    <tr>\n",
       "      <th>3</th>\n",
       "      <td>http://www.dumblittleman.com/2007/12/10-foolpr...</td>\n",
       "      <td>6684</td>\n",
       "      <td>{\"title\":\"10 Foolproof Tips for Better Sleep \"...</td>\n",
       "      <td>health</td>\n",
       "      <td>0.801248</td>\n",
       "      <td>1.543103</td>\n",
       "      <td>0.400000</td>\n",
       "      <td>0.100000</td>\n",
       "      <td>0.016667</td>\n",
       "      <td>0.000000</td>\n",
       "      <td>0.480725</td>\n",
       "      <td>0.0</td>\n",
       "      <td>0</td>\n",
       "      <td>0.095861</td>\n",
       "      <td>0</td>\n",
       "      <td>0.265656</td>\n",
       "      <td>0.035343</td>\n",
       "      <td>1</td>\n",
       "      <td>0</td>\n",
       "      <td>24</td>\n",
       "      <td>0</td>\n",
       "      <td>2737</td>\n",
       "      <td>120</td>\n",
       "      <td>5</td>\n",
       "      <td>0.041667</td>\n",
       "      <td>0.100858</td>\n",
       "      <td>1</td>\n",
       "    </tr>\n",
       "    <tr>\n",
       "      <th>4</th>\n",
       "      <td>http://bleacherreport.com/articles/1205138-the...</td>\n",
       "      <td>9006</td>\n",
       "      <td>{\"title\":\"The 50 Coolest Jerseys You Didn t Kn...</td>\n",
       "      <td>sports</td>\n",
       "      <td>0.719157</td>\n",
       "      <td>2.676471</td>\n",
       "      <td>0.500000</td>\n",
       "      <td>0.222222</td>\n",
       "      <td>0.123457</td>\n",
       "      <td>0.043210</td>\n",
       "      <td>0.446143</td>\n",
       "      <td>0.0</td>\n",
       "      <td>0</td>\n",
       "      <td>0.024908</td>\n",
       "      <td>0</td>\n",
       "      <td>0.228887</td>\n",
       "      <td>0.050473</td>\n",
       "      <td>1</td>\n",
       "      <td>1</td>\n",
       "      <td>14</td>\n",
       "      <td>0</td>\n",
       "      <td>12032</td>\n",
       "      <td>162</td>\n",
       "      <td>10</td>\n",
       "      <td>0.098765</td>\n",
       "      <td>0.082569</td>\n",
       "      <td>0</td>\n",
       "    </tr>\n",
       "  </tbody>\n",
       "</table>\n",
       "</div>"
      ],
      "text/plain": [
       "                                                 url  urlid  \\\n",
       "0  http://www.bloomberg.com/news/2010-12-23/ibm-p...   4042   \n",
       "1  http://www.popsci.com/technology/article/2012-...   8471   \n",
       "2  http://www.menshealth.com/health/flu-fighting-...   1164   \n",
       "3  http://www.dumblittleman.com/2007/12/10-foolpr...   6684   \n",
       "4  http://bleacherreport.com/articles/1205138-the...   9006   \n",
       "\n",
       "                                         boilerplate alchemy_category  \\\n",
       "0  {\"title\":\"IBM Sees Holographic Calls Air Breat...         business   \n",
       "1  {\"title\":\"The Fully Electronic Futuristic Star...       recreation   \n",
       "2  {\"title\":\"Fruits that Fight the Flu fruits tha...           health   \n",
       "3  {\"title\":\"10 Foolproof Tips for Better Sleep \"...           health   \n",
       "4  {\"title\":\"The 50 Coolest Jerseys You Didn t Kn...           sports   \n",
       "\n",
       "  alchemy_category_score  avglinksize  commonlinkratio_1  commonlinkratio_2  \\\n",
       "0               0.789131     2.055556           0.676471           0.205882   \n",
       "1               0.574147     3.677966           0.508021           0.288770   \n",
       "2               0.996526     2.382883           0.562016           0.321705   \n",
       "3               0.801248     1.543103           0.400000           0.100000   \n",
       "4               0.719157     2.676471           0.500000           0.222222   \n",
       "\n",
       "   commonlinkratio_3  commonlinkratio_4  compression_ratio  embed_ratio  \\\n",
       "0           0.047059           0.023529           0.443783          0.0   \n",
       "1           0.213904           0.144385           0.468649          0.0   \n",
       "2           0.120155           0.042636           0.525448          0.0   \n",
       "3           0.016667           0.000000           0.480725          0.0   \n",
       "4           0.123457           0.043210           0.446143          0.0   \n",
       "\n",
       "   framebased  frameTagRatio  hasDomainLink  html_ratio  image_ratio is_news  \\\n",
       "0           0       0.090774              0    0.245831     0.003883       1   \n",
       "1           0       0.098707              0    0.203490     0.088652       1   \n",
       "2           0       0.072448              0    0.226402     0.120536       1   \n",
       "3           0       0.095861              0    0.265656     0.035343       1   \n",
       "4           0       0.024908              0    0.228887     0.050473       1   \n",
       "\n",
       "   lengthyLinkDomain  linkwordscore news_front_page  \\\n",
       "0                  1             24               0   \n",
       "1                  1             40               0   \n",
       "2                  1             55               0   \n",
       "3                  0             24               0   \n",
       "4                  1             14               0   \n",
       "\n",
       "   non_markup_alphanum_characters  numberOfLinks  numwords_in_url  \\\n",
       "0                            5424            170                8   \n",
       "1                            4973            187                9   \n",
       "2                            2240            258               11   \n",
       "3                            2737            120                5   \n",
       "4                           12032            162               10   \n",
       "\n",
       "   parametrizedLinkRatio  spelling_errors_ratio  label  \n",
       "0               0.152941               0.079130      0  \n",
       "1               0.181818               0.125448      1  \n",
       "2               0.166667               0.057613      1  \n",
       "3               0.041667               0.100858      1  \n",
       "4               0.098765               0.082569      0  "
      ]
     },
     "execution_count": 3,
     "metadata": {},
     "output_type": "execute_result"
    }
   ],
   "source": [
    "train_df = pd.read_csv('input/train.tsv', delimiter='\\t')\n",
    "train_df.head()"
   ]
  },
  {
   "cell_type": "code",
   "execution_count": 4,
   "id": "957d21e0",
   "metadata": {},
   "outputs": [],
   "source": [
    "train_df.drop(['urlid','is_news','framebased'],axis=1, inplace=True)\n",
    "#URL kolona je izbačena nešto kasnije, pre enkodiranja.  "
   ]
  },
  {
   "cell_type": "markdown",
   "id": "9cdcc6c0",
   "metadata": {},
   "source": [
    "### Priprema podataka\n",
    "\n",
    "#### Boilerplate kolona"
   ]
  },
  {
   "cell_type": "code",
   "execution_count": 5,
   "id": "18274747",
   "metadata": {},
   "outputs": [],
   "source": [
    "train_df['boilerplate'] = train_df['boilerplate'].replace(to_replace=':null', value=':\"\"', regex=True)"
   ]
  },
  {
   "cell_type": "code",
   "execution_count": 6,
   "id": "01404485",
   "metadata": {},
   "outputs": [],
   "source": [
    "train_df.boilerplate=train_df.boilerplate.map(eval)"
   ]
  },
  {
   "cell_type": "code",
   "execution_count": 7,
   "id": "fcec302c",
   "metadata": {},
   "outputs": [
    {
     "data": {
      "text/plain": [
       "dict_keys(['title', 'body', 'url'])"
      ]
     },
     "execution_count": 7,
     "metadata": {},
     "output_type": "execute_result"
    }
   ],
   "source": [
    "train_df.boilerplate[1].keys()"
   ]
  },
  {
   "cell_type": "code",
   "execution_count": 9,
   "id": "ab032488",
   "metadata": {},
   "outputs": [],
   "source": [
    "train_df.rename({'url':'full_url'},axis=1, inplace=True)"
   ]
  },
  {
   "cell_type": "code",
   "execution_count": 10,
   "id": "5e7d4ef2",
   "metadata": {},
   "outputs": [],
   "source": [
    "train_df=pd.concat([train_df.drop('boilerplate', axis=1),train_df['boilerplate'].apply(pd.Series)], axis=1)"
   ]
  },
  {
   "cell_type": "code",
   "execution_count": 12,
   "id": "54f20978",
   "metadata": {},
   "outputs": [],
   "source": [
    "train_df.rename({'url':'url_words'},axis=1, inplace=True)\n",
    "train_df.rename({'full_url':'url'},axis=1, inplace=True)"
   ]
  },
  {
   "cell_type": "markdown",
   "id": "e0fef755",
   "metadata": {},
   "source": [
    "#### Nedostajuće vrednosti kao np.nan"
   ]
  },
  {
   "cell_type": "markdown",
   "id": "777f6502",
   "metadata": {},
   "source": [
    "Nedostajuće vrednosti se pojavljuju u okviru znaka pitanja."
   ]
  },
  {
   "cell_type": "code",
   "execution_count": 13,
   "id": "138fb59e",
   "metadata": {},
   "outputs": [],
   "source": [
    "train_df.replace(to_replace='?', value=np.nan, inplace=True)"
   ]
  },
  {
   "cell_type": "code",
   "execution_count": 14,
   "id": "6448d27c",
   "metadata": {},
   "outputs": [
    {
     "data": {
      "text/html": [
       "<div>\n",
       "<style scoped>\n",
       "    .dataframe tbody tr th:only-of-type {\n",
       "        vertical-align: middle;\n",
       "    }\n",
       "\n",
       "    .dataframe tbody tr th {\n",
       "        vertical-align: top;\n",
       "    }\n",
       "\n",
       "    .dataframe thead th {\n",
       "        text-align: right;\n",
       "    }\n",
       "</style>\n",
       "<table border=\"1\" class=\"dataframe\">\n",
       "  <thead>\n",
       "    <tr style=\"text-align: right;\">\n",
       "      <th></th>\n",
       "      <th>url</th>\n",
       "      <th>alchemy_category</th>\n",
       "      <th>alchemy_category_score</th>\n",
       "      <th>avglinksize</th>\n",
       "      <th>commonlinkratio_1</th>\n",
       "      <th>commonlinkratio_2</th>\n",
       "      <th>commonlinkratio_3</th>\n",
       "      <th>commonlinkratio_4</th>\n",
       "      <th>compression_ratio</th>\n",
       "      <th>embed_ratio</th>\n",
       "      <th>frameTagRatio</th>\n",
       "      <th>hasDomainLink</th>\n",
       "      <th>html_ratio</th>\n",
       "      <th>image_ratio</th>\n",
       "      <th>lengthyLinkDomain</th>\n",
       "      <th>linkwordscore</th>\n",
       "      <th>news_front_page</th>\n",
       "      <th>non_markup_alphanum_characters</th>\n",
       "      <th>numberOfLinks</th>\n",
       "      <th>numwords_in_url</th>\n",
       "      <th>parametrizedLinkRatio</th>\n",
       "      <th>spelling_errors_ratio</th>\n",
       "      <th>label</th>\n",
       "      <th>title</th>\n",
       "      <th>body</th>\n",
       "      <th>url_words</th>\n",
       "      <th>related</th>\n",
       "    </tr>\n",
       "  </thead>\n",
       "  <tbody>\n",
       "    <tr>\n",
       "      <th>0</th>\n",
       "      <td>http://www.bloomberg.com/news/2010-12-23/ibm-p...</td>\n",
       "      <td>business</td>\n",
       "      <td>0.789131</td>\n",
       "      <td>2.055556</td>\n",
       "      <td>0.676471</td>\n",
       "      <td>0.205882</td>\n",
       "      <td>0.047059</td>\n",
       "      <td>0.023529</td>\n",
       "      <td>0.443783</td>\n",
       "      <td>0.0</td>\n",
       "      <td>0.090774</td>\n",
       "      <td>0</td>\n",
       "      <td>0.245831</td>\n",
       "      <td>0.003883</td>\n",
       "      <td>1</td>\n",
       "      <td>24</td>\n",
       "      <td>0</td>\n",
       "      <td>5424</td>\n",
       "      <td>170</td>\n",
       "      <td>8</td>\n",
       "      <td>0.152941</td>\n",
       "      <td>0.079130</td>\n",
       "      <td>0</td>\n",
       "      <td>IBM Sees Holographic Calls Air Breathing Batte...</td>\n",
       "      <td>A sign stands outside the International Busine...</td>\n",
       "      <td>bloomberg news 2010 12 23 ibm predicts hologra...</td>\n",
       "      <td>NaN</td>\n",
       "    </tr>\n",
       "    <tr>\n",
       "      <th>1</th>\n",
       "      <td>http://www.popsci.com/technology/article/2012-...</td>\n",
       "      <td>recreation</td>\n",
       "      <td>0.574147</td>\n",
       "      <td>3.677966</td>\n",
       "      <td>0.508021</td>\n",
       "      <td>0.288770</td>\n",
       "      <td>0.213904</td>\n",
       "      <td>0.144385</td>\n",
       "      <td>0.468649</td>\n",
       "      <td>0.0</td>\n",
       "      <td>0.098707</td>\n",
       "      <td>0</td>\n",
       "      <td>0.203490</td>\n",
       "      <td>0.088652</td>\n",
       "      <td>1</td>\n",
       "      <td>40</td>\n",
       "      <td>0</td>\n",
       "      <td>4973</td>\n",
       "      <td>187</td>\n",
       "      <td>9</td>\n",
       "      <td>0.181818</td>\n",
       "      <td>0.125448</td>\n",
       "      <td>1</td>\n",
       "      <td>The Fully Electronic Futuristic Starting Gun T...</td>\n",
       "      <td>And that can be carried on a plane without the...</td>\n",
       "      <td>popsci technology article 2012 07 electronic f...</td>\n",
       "      <td>NaN</td>\n",
       "    </tr>\n",
       "    <tr>\n",
       "      <th>2</th>\n",
       "      <td>http://www.menshealth.com/health/flu-fighting-...</td>\n",
       "      <td>health</td>\n",
       "      <td>0.996526</td>\n",
       "      <td>2.382883</td>\n",
       "      <td>0.562016</td>\n",
       "      <td>0.321705</td>\n",
       "      <td>0.120155</td>\n",
       "      <td>0.042636</td>\n",
       "      <td>0.525448</td>\n",
       "      <td>0.0</td>\n",
       "      <td>0.072448</td>\n",
       "      <td>0</td>\n",
       "      <td>0.226402</td>\n",
       "      <td>0.120536</td>\n",
       "      <td>1</td>\n",
       "      <td>55</td>\n",
       "      <td>0</td>\n",
       "      <td>2240</td>\n",
       "      <td>258</td>\n",
       "      <td>11</td>\n",
       "      <td>0.166667</td>\n",
       "      <td>0.057613</td>\n",
       "      <td>1</td>\n",
       "      <td>Fruits that Fight the Flu fruits that fight th...</td>\n",
       "      <td>Apples The most popular source of antioxidants...</td>\n",
       "      <td>menshealth health flu fighting fruits cm mmc F...</td>\n",
       "      <td>NaN</td>\n",
       "    </tr>\n",
       "    <tr>\n",
       "      <th>3</th>\n",
       "      <td>http://www.dumblittleman.com/2007/12/10-foolpr...</td>\n",
       "      <td>health</td>\n",
       "      <td>0.801248</td>\n",
       "      <td>1.543103</td>\n",
       "      <td>0.400000</td>\n",
       "      <td>0.100000</td>\n",
       "      <td>0.016667</td>\n",
       "      <td>0.000000</td>\n",
       "      <td>0.480725</td>\n",
       "      <td>0.0</td>\n",
       "      <td>0.095861</td>\n",
       "      <td>0</td>\n",
       "      <td>0.265656</td>\n",
       "      <td>0.035343</td>\n",
       "      <td>0</td>\n",
       "      <td>24</td>\n",
       "      <td>0</td>\n",
       "      <td>2737</td>\n",
       "      <td>120</td>\n",
       "      <td>5</td>\n",
       "      <td>0.041667</td>\n",
       "      <td>0.100858</td>\n",
       "      <td>1</td>\n",
       "      <td>10 Foolproof Tips for Better Sleep</td>\n",
       "      <td>There was a period in my life when I had a lot...</td>\n",
       "      <td>dumblittleman 2007 12 10 foolproof tips for be...</td>\n",
       "      <td>NaN</td>\n",
       "    </tr>\n",
       "    <tr>\n",
       "      <th>4</th>\n",
       "      <td>http://bleacherreport.com/articles/1205138-the...</td>\n",
       "      <td>sports</td>\n",
       "      <td>0.719157</td>\n",
       "      <td>2.676471</td>\n",
       "      <td>0.500000</td>\n",
       "      <td>0.222222</td>\n",
       "      <td>0.123457</td>\n",
       "      <td>0.043210</td>\n",
       "      <td>0.446143</td>\n",
       "      <td>0.0</td>\n",
       "      <td>0.024908</td>\n",
       "      <td>0</td>\n",
       "      <td>0.228887</td>\n",
       "      <td>0.050473</td>\n",
       "      <td>1</td>\n",
       "      <td>14</td>\n",
       "      <td>0</td>\n",
       "      <td>12032</td>\n",
       "      <td>162</td>\n",
       "      <td>10</td>\n",
       "      <td>0.098765</td>\n",
       "      <td>0.082569</td>\n",
       "      <td>0</td>\n",
       "      <td>The 50 Coolest Jerseys You Didn t Know Existed...</td>\n",
       "      <td>Jersey sales is a curious business Whether you...</td>\n",
       "      <td>bleacherreport articles 1205138 the 50 coolest...</td>\n",
       "      <td>NaN</td>\n",
       "    </tr>\n",
       "  </tbody>\n",
       "</table>\n",
       "</div>"
      ],
      "text/plain": [
       "                                                 url alchemy_category  \\\n",
       "0  http://www.bloomberg.com/news/2010-12-23/ibm-p...         business   \n",
       "1  http://www.popsci.com/technology/article/2012-...       recreation   \n",
       "2  http://www.menshealth.com/health/flu-fighting-...           health   \n",
       "3  http://www.dumblittleman.com/2007/12/10-foolpr...           health   \n",
       "4  http://bleacherreport.com/articles/1205138-the...           sports   \n",
       "\n",
       "  alchemy_category_score  avglinksize  commonlinkratio_1  commonlinkratio_2  \\\n",
       "0               0.789131     2.055556           0.676471           0.205882   \n",
       "1               0.574147     3.677966           0.508021           0.288770   \n",
       "2               0.996526     2.382883           0.562016           0.321705   \n",
       "3               0.801248     1.543103           0.400000           0.100000   \n",
       "4               0.719157     2.676471           0.500000           0.222222   \n",
       "\n",
       "   commonlinkratio_3  commonlinkratio_4  compression_ratio  embed_ratio  \\\n",
       "0           0.047059           0.023529           0.443783          0.0   \n",
       "1           0.213904           0.144385           0.468649          0.0   \n",
       "2           0.120155           0.042636           0.525448          0.0   \n",
       "3           0.016667           0.000000           0.480725          0.0   \n",
       "4           0.123457           0.043210           0.446143          0.0   \n",
       "\n",
       "   frameTagRatio  hasDomainLink  html_ratio  image_ratio  lengthyLinkDomain  \\\n",
       "0       0.090774              0    0.245831     0.003883                  1   \n",
       "1       0.098707              0    0.203490     0.088652                  1   \n",
       "2       0.072448              0    0.226402     0.120536                  1   \n",
       "3       0.095861              0    0.265656     0.035343                  0   \n",
       "4       0.024908              0    0.228887     0.050473                  1   \n",
       "\n",
       "   linkwordscore news_front_page  non_markup_alphanum_characters  \\\n",
       "0             24               0                            5424   \n",
       "1             40               0                            4973   \n",
       "2             55               0                            2240   \n",
       "3             24               0                            2737   \n",
       "4             14               0                           12032   \n",
       "\n",
       "   numberOfLinks  numwords_in_url  parametrizedLinkRatio  \\\n",
       "0            170                8               0.152941   \n",
       "1            187                9               0.181818   \n",
       "2            258               11               0.166667   \n",
       "3            120                5               0.041667   \n",
       "4            162               10               0.098765   \n",
       "\n",
       "   spelling_errors_ratio  label  \\\n",
       "0               0.079130      0   \n",
       "1               0.125448      1   \n",
       "2               0.057613      1   \n",
       "3               0.100858      1   \n",
       "4               0.082569      0   \n",
       "\n",
       "                                               title  \\\n",
       "0  IBM Sees Holographic Calls Air Breathing Batte...   \n",
       "1  The Fully Electronic Futuristic Starting Gun T...   \n",
       "2  Fruits that Fight the Flu fruits that fight th...   \n",
       "3                10 Foolproof Tips for Better Sleep    \n",
       "4  The 50 Coolest Jerseys You Didn t Know Existed...   \n",
       "\n",
       "                                                body  \\\n",
       "0  A sign stands outside the International Busine...   \n",
       "1  And that can be carried on a plane without the...   \n",
       "2  Apples The most popular source of antioxidants...   \n",
       "3  There was a period in my life when I had a lot...   \n",
       "4  Jersey sales is a curious business Whether you...   \n",
       "\n",
       "                                           url_words related  \n",
       "0  bloomberg news 2010 12 23 ibm predicts hologra...     NaN  \n",
       "1  popsci technology article 2012 07 electronic f...     NaN  \n",
       "2  menshealth health flu fighting fruits cm mmc F...     NaN  \n",
       "3  dumblittleman 2007 12 10 foolproof tips for be...     NaN  \n",
       "4  bleacherreport articles 1205138 the 50 coolest...     NaN  "
      ]
     },
     "execution_count": 14,
     "metadata": {},
     "output_type": "execute_result"
    }
   ],
   "source": [
    "train_df.head()"
   ]
  },
  {
   "cell_type": "markdown",
   "id": "b859c529",
   "metadata": {},
   "source": [
    "#### Ostale kolone- korekcija tipova"
   ]
  },
  {
   "cell_type": "code",
   "execution_count": 15,
   "id": "1db09967",
   "metadata": {},
   "outputs": [],
   "source": [
    "train_df['alchemy_category_score'] = train_df['alchemy_category_score'].astype(dtype='float')\n",
    "train_df['news_front_page'] = train_df['news_front_page'].astype(dtype='float')"
   ]
  },
  {
   "cell_type": "markdown",
   "id": "617cccbd",
   "metadata": {},
   "source": [
    "#### Podela podataka na X i y"
   ]
  },
  {
   "cell_type": "code",
   "execution_count": 16,
   "id": "2db27647",
   "metadata": {},
   "outputs": [],
   "source": [
    "X=train_df.loc[:, train_df.columns!= 'label']\n",
    "y=train_df['label']"
   ]
  },
  {
   "cell_type": "code",
   "execution_count": 17,
   "id": "c235e0d0",
   "metadata": {},
   "outputs": [],
   "source": [
    "categorical_cols = list(X.select_dtypes(include='object').columns)\n",
    "numerical_cols = list(X.select_dtypes(exclude='object').columns)"
   ]
  },
  {
   "cell_type": "markdown",
   "id": "3a7b9064",
   "metadata": {},
   "source": [
    "#### alchemy_category kolona\n",
    "Ređe kategorije postaju jedna"
   ]
  },
  {
   "cell_type": "code",
   "execution_count": 18,
   "id": "f9d1b79e",
   "metadata": {},
   "outputs": [
    {
     "data": {
      "text/plain": [
       "recreation            1229\n",
       "arts_entertainment     941\n",
       "business               880\n",
       "health                 506\n",
       "sports                 380\n",
       "culture_politics       343\n",
       "computer_internet      296\n",
       "science_technology     289\n",
       "gaming                  76\n",
       "religion                72\n",
       "law_crime               31\n",
       "unknown                  6\n",
       "weather                  4\n",
       "Name: alchemy_category, dtype: int64"
      ]
     },
     "execution_count": 18,
     "metadata": {},
     "output_type": "execute_result"
    }
   ],
   "source": [
    "train_df.alchemy_category.value_counts()"
   ]
  },
  {
   "cell_type": "code",
   "execution_count": 19,
   "id": "e3f31462",
   "metadata": {},
   "outputs": [],
   "source": [
    "X.alchemy_category[X.groupby('alchemy_category')['alchemy_category'].transform('count').lt(100)]='RARE'"
   ]
  },
  {
   "cell_type": "code",
   "execution_count": 20,
   "id": "574d5a31",
   "metadata": {},
   "outputs": [],
   "source": [
    "categorical_cols = list(X.select_dtypes(include='object').columns)\n",
    "numerical_cols = list(X.select_dtypes(exclude='object').columns)"
   ]
  },
  {
   "cell_type": "code",
   "execution_count": 21,
   "id": "0e0f63e8",
   "metadata": {},
   "outputs": [],
   "source": [
    "X.reset_index(inplace = True, drop=True) #proveriti da li treba\n",
    "y.reset_index(inplace = True, drop=True)"
   ]
  },
  {
   "cell_type": "markdown",
   "id": "bae3e744",
   "metadata": {},
   "source": [
    "### Podela podataka na train i test"
   ]
  },
  {
   "cell_type": "code",
   "execution_count": 22,
   "id": "d6fe0a7a",
   "metadata": {},
   "outputs": [],
   "source": [
    "X_train, X_test, y_train, y_test = train_test_split(X,\n",
    "                                                    y,\n",
    "                                                    test_size=0.25,\n",
    "                                                    random_state=42)"
   ]
  },
  {
   "cell_type": "markdown",
   "id": "20495794",
   "metadata": {},
   "source": [
    "### Imputacija nedostajućih vrednosti\n",
    "\n",
    "#### fit i transform- train"
   ]
  },
  {
   "cell_type": "code",
   "execution_count": 23,
   "id": "3108d1d4",
   "metadata": {},
   "outputs": [],
   "source": [
    "class CustomImputer(BaseEstimator, TransformerMixin):\n",
    "    def __init__(self):\n",
    "        self.missing_map = {}\n",
    "\n",
    "    def fit(self, X, y=None):\n",
    "\n",
    "        num_atts = X.select_dtypes(exclude='object').columns.tolist()\n",
    "\n",
    "        for att in num_atts:\n",
    "            self.missing_map.update({att: X[att].median()})\n",
    "\n",
    "        cat_atts = X.select_dtypes(include='object').columns.tolist()\n",
    "\n",
    "        for att in cat_atts:\n",
    "            self.missing_map.update({att: X[att].value_counts().index[0]})\n",
    "\n",
    "        return (self)\n",
    "\n",
    "    def transform(self, X, y=None):\n",
    "\n",
    "        for att, impute_value in self.missing_map.items():\n",
    "            X[att] = X[att].fillna(impute_value)\n",
    "        return (X)"
   ]
  },
  {
   "cell_type": "code",
   "execution_count": 24,
   "id": "300113a2",
   "metadata": {},
   "outputs": [],
   "source": [
    "custom_imputer=CustomImputer().fit(X_train)\n",
    "X_train=custom_imputer.transform(X_train)"
   ]
  },
  {
   "cell_type": "markdown",
   "id": "4021947a",
   "metadata": {},
   "source": [
    "#### transform- test"
   ]
  },
  {
   "cell_type": "code",
   "execution_count": 25,
   "id": "bb3aaf4e",
   "metadata": {},
   "outputs": [],
   "source": [
    "X_test=custom_imputer.transform(X_test)"
   ]
  },
  {
   "cell_type": "code",
   "execution_count": 26,
   "id": "18195d46",
   "metadata": {},
   "outputs": [],
   "source": [
    "X_test=custom_imputer.transform(X_test) #test df ne sadrži target kolonu."
   ]
  },
  {
   "cell_type": "code",
   "execution_count": 27,
   "id": "5603a1a2",
   "metadata": {},
   "outputs": [],
   "source": [
    "categorical_cols = list(X_train.select_dtypes(include='object').columns)\n",
    "numerical_cols = list(X_train.select_dtypes(exclude='object').columns)"
   ]
  },
  {
   "cell_type": "code",
   "execution_count": 28,
   "id": "0361e0b3",
   "metadata": {},
   "outputs": [
    {
     "data": {
      "text/plain": [
       "['url', 'alchemy_category', 'title', 'body', 'url_words', 'related']"
      ]
     },
     "execution_count": 28,
     "metadata": {},
     "output_type": "execute_result"
    }
   ],
   "source": [
    "categorical_cols"
   ]
  },
  {
   "cell_type": "code",
   "execution_count": 29,
   "id": "660c4605",
   "metadata": {},
   "outputs": [],
   "source": [
    "X_train.reset_index(inplace = True, drop=True) #proveriti da li treba\n",
    "y_train.reset_index(inplace = True, drop=True)\n",
    "\n",
    "X_test.reset_index(inplace = True, drop=True) #proveriti da li treba\n",
    "y_test.reset_index(inplace = True, drop=True)"
   ]
  },
  {
   "cell_type": "markdown",
   "id": "728e57c7",
   "metadata": {},
   "source": [
    "### Izbacivanje kolona  i odvajanje za kasniju obradu"
   ]
  },
  {
   "cell_type": "code",
   "execution_count": 30,
   "id": "15083e76",
   "metadata": {},
   "outputs": [],
   "source": [
    "titles_train=X_train.title\n",
    "titles_test=X_test.title\n",
    "bodies_train=X_train.body\n",
    "bodies_test=X_test.body\n",
    "X_train.drop(['url','body','title','url_words'],inplace=True,axis=1)\n",
    "X_test.drop(['url','body','title','url_words'],inplace=True,axis=1)"
   ]
  },
  {
   "cell_type": "markdown",
   "id": "b0484417",
   "metadata": {},
   "source": [
    "### Enkodiranje kategoričkih varijabli"
   ]
  },
  {
   "cell_type": "code",
   "execution_count": 31,
   "id": "25fcda19",
   "metadata": {},
   "outputs": [],
   "source": [
    "categorical_cols = list(X_train.select_dtypes(include='object').columns)\n",
    "numerical_cols = list(X_train.select_dtypes(exclude='object').columns)"
   ]
  },
  {
   "cell_type": "markdown",
   "id": "ab42ba8f",
   "metadata": {},
   "source": [
    "#### Enkodiranje- train"
   ]
  },
  {
   "cell_type": "code",
   "execution_count": 32,
   "id": "1f013649",
   "metadata": {},
   "outputs": [
    {
     "data": {
      "text/html": [
       "<div>\n",
       "<style scoped>\n",
       "    .dataframe tbody tr th:only-of-type {\n",
       "        vertical-align: middle;\n",
       "    }\n",
       "\n",
       "    .dataframe tbody tr th {\n",
       "        vertical-align: top;\n",
       "    }\n",
       "\n",
       "    .dataframe thead th {\n",
       "        text-align: right;\n",
       "    }\n",
       "</style>\n",
       "<table border=\"1\" class=\"dataframe\">\n",
       "  <thead>\n",
       "    <tr style=\"text-align: right;\">\n",
       "      <th></th>\n",
       "      <th>alchemy_category_RARE</th>\n",
       "      <th>alchemy_category_arts_entertainment</th>\n",
       "      <th>alchemy_category_business</th>\n",
       "      <th>alchemy_category_computer_internet</th>\n",
       "      <th>alchemy_category_culture_politics</th>\n",
       "      <th>alchemy_category_health</th>\n",
       "      <th>alchemy_category_recreation</th>\n",
       "      <th>alchemy_category_science_technology</th>\n",
       "      <th>alchemy_category_sports</th>\n",
       "      <th>related_</th>\n",
       "    </tr>\n",
       "  </thead>\n",
       "  <tbody>\n",
       "    <tr>\n",
       "      <th>0</th>\n",
       "      <td>0</td>\n",
       "      <td>0</td>\n",
       "      <td>0</td>\n",
       "      <td>0</td>\n",
       "      <td>0</td>\n",
       "      <td>0</td>\n",
       "      <td>1</td>\n",
       "      <td>0</td>\n",
       "      <td>0</td>\n",
       "      <td>1</td>\n",
       "    </tr>\n",
       "    <tr>\n",
       "      <th>1</th>\n",
       "      <td>0</td>\n",
       "      <td>0</td>\n",
       "      <td>0</td>\n",
       "      <td>0</td>\n",
       "      <td>1</td>\n",
       "      <td>0</td>\n",
       "      <td>0</td>\n",
       "      <td>0</td>\n",
       "      <td>0</td>\n",
       "      <td>1</td>\n",
       "    </tr>\n",
       "    <tr>\n",
       "      <th>2</th>\n",
       "      <td>0</td>\n",
       "      <td>0</td>\n",
       "      <td>0</td>\n",
       "      <td>0</td>\n",
       "      <td>0</td>\n",
       "      <td>0</td>\n",
       "      <td>1</td>\n",
       "      <td>0</td>\n",
       "      <td>0</td>\n",
       "      <td>1</td>\n",
       "    </tr>\n",
       "    <tr>\n",
       "      <th>3</th>\n",
       "      <td>0</td>\n",
       "      <td>0</td>\n",
       "      <td>0</td>\n",
       "      <td>0</td>\n",
       "      <td>0</td>\n",
       "      <td>0</td>\n",
       "      <td>1</td>\n",
       "      <td>0</td>\n",
       "      <td>0</td>\n",
       "      <td>1</td>\n",
       "    </tr>\n",
       "    <tr>\n",
       "      <th>4</th>\n",
       "      <td>0</td>\n",
       "      <td>1</td>\n",
       "      <td>0</td>\n",
       "      <td>0</td>\n",
       "      <td>0</td>\n",
       "      <td>0</td>\n",
       "      <td>0</td>\n",
       "      <td>0</td>\n",
       "      <td>0</td>\n",
       "      <td>1</td>\n",
       "    </tr>\n",
       "  </tbody>\n",
       "</table>\n",
       "</div>"
      ],
      "text/plain": [
       "   alchemy_category_RARE  alchemy_category_arts_entertainment  \\\n",
       "0                      0                                    0   \n",
       "1                      0                                    0   \n",
       "2                      0                                    0   \n",
       "3                      0                                    0   \n",
       "4                      0                                    1   \n",
       "\n",
       "   alchemy_category_business  alchemy_category_computer_internet  \\\n",
       "0                          0                                   0   \n",
       "1                          0                                   0   \n",
       "2                          0                                   0   \n",
       "3                          0                                   0   \n",
       "4                          0                                   0   \n",
       "\n",
       "   alchemy_category_culture_politics  alchemy_category_health  \\\n",
       "0                                  0                        0   \n",
       "1                                  1                        0   \n",
       "2                                  0                        0   \n",
       "3                                  0                        0   \n",
       "4                                  0                        0   \n",
       "\n",
       "   alchemy_category_recreation  alchemy_category_science_technology  \\\n",
       "0                            1                                    0   \n",
       "1                            0                                    0   \n",
       "2                            1                                    0   \n",
       "3                            1                                    0   \n",
       "4                            0                                    0   \n",
       "\n",
       "   alchemy_category_sports  related_  \n",
       "0                        0         1  \n",
       "1                        0         1  \n",
       "2                        0         1  \n",
       "3                        0         1  \n",
       "4                        0         1  "
      ]
     },
     "execution_count": 32,
     "metadata": {},
     "output_type": "execute_result"
    }
   ],
   "source": [
    "enc = OneHotEncoder(dtype=np.int8).fit(X_train[categorical_cols])\n",
    "\n",
    "X_new = pd.DataFrame(enc.transform(X_train[categorical_cols]).toarray())\n",
    "X_new.columns = enc.get_feature_names(categorical_cols)\n",
    "\n",
    "X_new.head()"
   ]
  },
  {
   "cell_type": "code",
   "execution_count": 33,
   "id": "b7327f50",
   "metadata": {},
   "outputs": [],
   "source": [
    "X_train=pd.concat([X_train[numerical_cols],X_new], axis=1)"
   ]
  },
  {
   "cell_type": "code",
   "execution_count": 34,
   "id": "69522139",
   "metadata": {},
   "outputs": [
    {
     "data": {
      "text/plain": [
       "0"
      ]
     },
     "execution_count": 34,
     "metadata": {},
     "output_type": "execute_result"
    }
   ],
   "source": [
    "X_train.isna().sum().sum()"
   ]
  },
  {
   "cell_type": "markdown",
   "id": "484daeba",
   "metadata": {},
   "source": [
    "#### Enkodiranje- test"
   ]
  },
  {
   "cell_type": "code",
   "execution_count": 35,
   "id": "5cc04548",
   "metadata": {},
   "outputs": [],
   "source": [
    "X_new = pd.DataFrame(enc.transform(X_test[categorical_cols]).toarray())\n",
    "X_new.columns = enc.get_feature_names(categorical_cols)"
   ]
  },
  {
   "cell_type": "code",
   "execution_count": 36,
   "id": "79e5ca01",
   "metadata": {},
   "outputs": [],
   "source": [
    "X_test=pd.concat([X_test[numerical_cols],X_new], axis=1)"
   ]
  },
  {
   "cell_type": "code",
   "execution_count": 37,
   "id": "821dd38c",
   "metadata": {},
   "outputs": [],
   "source": [
    "X_train.reset_index(inplace = True, drop=True) #proveriti da li treba\n",
    "y_train.reset_index(inplace = True, drop=True)\n",
    "#just in case\n",
    "X_test.reset_index(inplace = True, drop=True) #proveriti da li treba\n",
    "y_test.reset_index(inplace = True, drop=True)"
   ]
  },
  {
   "cell_type": "markdown",
   "id": "243b79e5",
   "metadata": {},
   "source": [
    "###  CountVectorizer- titles and bodies"
   ]
  },
  {
   "cell_type": "code",
   "execution_count": 38,
   "id": "9cff5044",
   "metadata": {},
   "outputs": [],
   "source": [
    "#!pip install nltk"
   ]
  },
  {
   "cell_type": "code",
   "execution_count": 39,
   "id": "303fefc9",
   "metadata": {},
   "outputs": [],
   "source": [
    "import nltk\n",
    "#nltk.download('stopwords') #odkomentarisati pri prvom izvršavanju"
   ]
  },
  {
   "cell_type": "code",
   "execution_count": 40,
   "id": "37e198f1",
   "metadata": {},
   "outputs": [
    {
     "name": "stdout",
     "output_type": "stream",
     "text": [
      "['i', 'me', 'my', 'myself', 'we', 'our', 'ours', 'ourselves', 'you', \"you're\", \"you've\", \"you'll\", \"you'd\", 'your', 'yours', 'yourself', 'yourselves', 'he', 'him', 'his', 'himself', 'she', \"she's\", 'her', 'hers', 'herself', 'it', \"it's\", 'its', 'itself', 'they', 'them', 'their', 'theirs', 'themselves', 'what', 'which', 'who', 'whom', 'this', 'that', \"that'll\", 'these', 'those', 'am', 'is', 'are', 'was', 'were', 'be', 'been', 'being', 'have', 'has', 'had', 'having', 'do', 'does', 'did', 'doing', 'a', 'an', 'the', 'and', 'but', 'if', 'or', 'because', 'as', 'until', 'while', 'of', 'at', 'by', 'for', 'with', 'about', 'against', 'between', 'into', 'through', 'during', 'before', 'after', 'above', 'below', 'to', 'from', 'up', 'down', 'in', 'out', 'on', 'off', 'over', 'under', 'again', 'further', 'then', 'once', 'here', 'there', 'when', 'where', 'why', 'how', 'all', 'any', 'both', 'each', 'few', 'more', 'most', 'other', 'some', 'such', 'no', 'nor', 'not', 'only', 'own', 'same', 'so', 'than', 'too', 'very', 's', 't', 'can', 'will', 'just', 'don', \"don't\", 'should', \"should've\", 'now', 'd', 'll', 'm', 'o', 're', 've', 'y', 'ain', 'aren', \"aren't\", 'couldn', \"couldn't\", 'didn', \"didn't\", 'doesn', \"doesn't\", 'hadn', \"hadn't\", 'hasn', \"hasn't\", 'haven', \"haven't\", 'isn', \"isn't\", 'ma', 'mightn', \"mightn't\", 'mustn', \"mustn't\", 'needn', \"needn't\", 'shan', \"shan't\", 'shouldn', \"shouldn't\", 'wasn', \"wasn't\", 'weren', \"weren't\", 'won', \"won't\", 'wouldn', \"wouldn't\"]\n"
     ]
    }
   ],
   "source": [
    "from nltk.corpus import stopwords\n",
    "print(stopwords.words('english'))"
   ]
  },
  {
   "cell_type": "code",
   "execution_count": 41,
   "id": "6fb789d5",
   "metadata": {},
   "outputs": [],
   "source": [
    "stop_words_en=set(stopwords.words('english'))\n",
    "stop_words_sp=set(stopwords.words('spanish'))\n",
    "stop_words_it=set(stopwords.words('italian'))\n",
    "stop_words_all=stop_words_en|stop_words_sp|stop_words_it"
   ]
  },
  {
   "cell_type": "markdown",
   "id": "a18fe834",
   "metadata": {},
   "source": [
    "#### CountVectorizer- train set - titles"
   ]
  },
  {
   "cell_type": "code",
   "execution_count": 42,
   "id": "2496aec7",
   "metadata": {
    "scrolled": true
   },
   "outputs": [],
   "source": [
    "cv2 = CountVectorizer( ngram_range=(1,2),lowercase=True,stop_words=stop_words_all,dtype=np.int8, min_df=0.01)\n",
    "cv2.fit(titles_train)\n",
    "transformed_titles_train =cv2.transform(titles_train)\n",
    "df_cv=pd.DataFrame(transformed_titles_train.todense(), columns=cv2.get_feature_names())"
   ]
  },
  {
   "cell_type": "code",
   "execution_count": 43,
   "id": "989b75b1",
   "metadata": {},
   "outputs": [],
   "source": [
    "X_train=pd.concat([X_train,df_cv], axis=1)"
   ]
  },
  {
   "cell_type": "markdown",
   "id": "e7ba6c94",
   "metadata": {},
   "source": [
    "#### CountVectorizer- test set - titles"
   ]
  },
  {
   "cell_type": "code",
   "execution_count": 44,
   "id": "00cc54e7",
   "metadata": {},
   "outputs": [],
   "source": [
    "transformed_titles_test =cv2.transform(titles_test)\n",
    "df_cv=pd.DataFrame(transformed_titles_test.todense(), columns=cv2.get_feature_names())"
   ]
  },
  {
   "cell_type": "code",
   "execution_count": 45,
   "id": "cf986932",
   "metadata": {},
   "outputs": [],
   "source": [
    "X_test=pd.concat([X_test,df_cv], axis=1)"
   ]
  },
  {
   "cell_type": "markdown",
   "id": "f0f9f4b5",
   "metadata": {},
   "source": [
    "#### CountVectorizer- train set - bodies"
   ]
  },
  {
   "cell_type": "code",
   "execution_count": 46,
   "id": "4540792c",
   "metadata": {},
   "outputs": [],
   "source": [
    "cv2 = CountVectorizer(ngram_range=(1,2),stop_words=stop_words_all,dtype=np.int8, min_df=0.08)\n",
    "cv2.fit(bodies_train)\n",
    "transformed_bodies_train =cv2.transform(bodies_train)\n",
    "df_cv=pd.DataFrame(transformed_bodies_train.todense(), columns=cv2.get_feature_names())"
   ]
  },
  {
   "cell_type": "code",
   "execution_count": 47,
   "id": "e6cc400e",
   "metadata": {},
   "outputs": [],
   "source": [
    "X_train=pd.concat([X_train,df_cv], axis=1)"
   ]
  },
  {
   "cell_type": "markdown",
   "id": "2f7fbd2c",
   "metadata": {},
   "source": [
    "#### CountVectorizer- test set - bodies"
   ]
  },
  {
   "cell_type": "code",
   "execution_count": 48,
   "id": "ba4f7dda",
   "metadata": {},
   "outputs": [],
   "source": [
    "transformed_bodies_test =cv2.transform(bodies_test)\n",
    "df_cv=pd.DataFrame(transformed_bodies_test.todense(), columns=cv2.get_feature_names())"
   ]
  },
  {
   "cell_type": "code",
   "execution_count": 49,
   "id": "b866e7e6",
   "metadata": {},
   "outputs": [],
   "source": [
    "X_test=pd.concat([X_test,df_cv], axis=1)"
   ]
  },
  {
   "cell_type": "markdown",
   "id": "1555b653",
   "metadata": {},
   "source": [
    "### Skaliranje podataka"
   ]
  },
  {
   "cell_type": "code",
   "execution_count": 50,
   "id": "14a918f9",
   "metadata": {},
   "outputs": [],
   "source": [
    "categorical_cols = list(X_train.select_dtypes(include='object').columns)\n",
    "numerical_cols = list(X_train.select_dtypes(exclude='object').columns)"
   ]
  },
  {
   "cell_type": "markdown",
   "id": "a3453b1f",
   "metadata": {},
   "source": [
    "#### Skaliranje- train"
   ]
  },
  {
   "cell_type": "code",
   "execution_count": 51,
   "id": "411b2f6c",
   "metadata": {},
   "outputs": [],
   "source": [
    "scaler = MinMaxScaler()\n",
    "scaler.fit(X_train[numerical_cols])\n",
    "X_train[numerical_cols]=scaler.transform(X_train[numerical_cols])"
   ]
  },
  {
   "cell_type": "markdown",
   "id": "e688fe7b",
   "metadata": {},
   "source": [
    "#### Skaliranje- test"
   ]
  },
  {
   "cell_type": "code",
   "execution_count": 52,
   "id": "606ea791",
   "metadata": {},
   "outputs": [],
   "source": [
    "X_test[numerical_cols]=scaler.transform(X_test[numerical_cols])"
   ]
  },
  {
   "cell_type": "markdown",
   "id": "e1994fbb",
   "metadata": {},
   "source": [
    "### Izbacivanje outliera"
   ]
  },
  {
   "cell_type": "code",
   "execution_count": 53,
   "id": "8122c9fb",
   "metadata": {},
   "outputs": [],
   "source": [
    "z = np.abs(stats.zscore(X_train[numerical_cols]))\n",
    "X_train['is_outlier'] = (np.any(z > 3, axis = 1)) "
   ]
  },
  {
   "cell_type": "code",
   "execution_count": 54,
   "id": "5faf9c5f",
   "metadata": {},
   "outputs": [],
   "source": [
    "X_train['label'] = y_train\n",
    "del X_train['is_outlier']"
   ]
  },
  {
   "cell_type": "code",
   "execution_count": 55,
   "id": "493f53ed",
   "metadata": {},
   "outputs": [],
   "source": [
    "y_train=X_train['label']\n",
    "del X_train['label']"
   ]
  },
  {
   "cell_type": "code",
   "execution_count": 56,
   "id": "048c6182",
   "metadata": {},
   "outputs": [],
   "source": [
    "X_train.reset_index(inplace = True, drop=True)\n",
    "y_train.reset_index(inplace = True, drop=True)"
   ]
  },
  {
   "cell_type": "code",
   "execution_count": 57,
   "id": "3032060a",
   "metadata": {},
   "outputs": [
    {
     "data": {
      "text/plain": [
       "((5546, 330), (5546,))"
      ]
     },
     "execution_count": 57,
     "metadata": {},
     "output_type": "execute_result"
    }
   ],
   "source": [
    "X_train.shape,y_train.shape"
   ]
  },
  {
   "cell_type": "markdown",
   "id": "f88b391a",
   "metadata": {},
   "source": [
    "### Kreiranje modela"
   ]
  },
  {
   "cell_type": "markdown",
   "id": "41b1fce9",
   "metadata": {},
   "source": [
    "Metrika je area under the ROC curve. "
   ]
  },
  {
   "cell_type": "code",
   "execution_count": 58,
   "id": "100b962a",
   "metadata": {},
   "outputs": [],
   "source": [
    "model = LogisticRegression()"
   ]
  },
  {
   "cell_type": "code",
   "execution_count": 59,
   "id": "aa5ef6d2",
   "metadata": {},
   "outputs": [
    {
     "data": {
      "text/plain": [
       "0.7939129370592953"
      ]
     },
     "execution_count": 59,
     "metadata": {},
     "output_type": "execute_result"
    }
   ],
   "source": [
    "model.fit(X_train,y_train)\n",
    "roc_auc_score(y_train, model.predict(X_train))\n",
    "#0.7941116122111008 odkomentarisano\n",
    "# 0.7940873962358479 zakomentarisano"
   ]
  },
  {
   "cell_type": "code",
   "execution_count": 60,
   "id": "b37fa40d",
   "metadata": {},
   "outputs": [
    {
     "data": {
      "text/plain": [
       "0.7868106988662291"
      ]
     },
     "execution_count": 60,
     "metadata": {},
     "output_type": "execute_result"
    }
   ],
   "source": [
    "roc_auc_score(y_test, model.predict(X_test))\n",
    "#0.7868106988662291 odkomentarisano\n",
    "# 0.786266629225315 zakomentarisano"
   ]
  },
  {
   "cell_type": "code",
   "execution_count": 61,
   "id": "61a343c1",
   "metadata": {},
   "outputs": [],
   "source": [
    "#body je bio više poboljšao model, ali oni zajedno rezultiraju sa dosta dobrim rezultatima, boljim nego oba pojedinačno.\n",
    "# iako alchemy_category ne pravi neku preveliku razliku, odlučeno je se nova podela usvoji.\n",
    "#krenuli smo od base modela koji je na testu ima auc 0.649, a uz malo truda doveli smo ga do 0.786"
   ]
  }
 ],
 "metadata": {
  "kernelspec": {
   "display_name": "Python 3",
   "language": "python",
   "name": "python3"
  },
  "language_info": {
   "codemirror_mode": {
    "name": "ipython",
    "version": 3
   },
   "file_extension": ".py",
   "mimetype": "text/x-python",
   "name": "python",
   "nbconvert_exporter": "python",
   "pygments_lexer": "ipython3",
   "version": "3.8.8"
  },
  "toc": {
   "base_numbering": 1,
   "nav_menu": {},
   "number_sections": true,
   "sideBar": true,
   "skip_h1_title": false,
   "title_cell": "Table of Contents",
   "title_sidebar": "Contents",
   "toc_cell": false,
   "toc_position": {},
   "toc_section_display": true,
   "toc_window_display": false
  }
 },
 "nbformat": 4,
 "nbformat_minor": 5
}
