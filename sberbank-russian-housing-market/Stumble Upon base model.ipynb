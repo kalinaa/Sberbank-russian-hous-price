{
 "cells": [
  {
   "cell_type": "markdown",
   "id": "3d6231b8",
   "metadata": {},
   "source": [
    "### Importovanje biblioteka i podataka"
   ]
  },
  {
   "cell_type": "code",
   "execution_count": 1,
   "id": "9c1957ab",
   "metadata": {},
   "outputs": [],
   "source": [
    "import numpy as np\n",
    "import pandas as pd\n",
    "import matplotlib.pyplot as plt\n",
    "import seaborn as sns\n",
    "import scikitplot as skplt\n",
    "from scipy import stats\n",
    "%matplotlib inline\n",
    "import warnings\n",
    "warnings.filterwarnings('ignore')\n",
    "\n",
    "from sklearn.preprocessing import OneHotEncoder\n",
    "from sklearn.pipeline import Pipeline\n",
    "from sklearn.compose import ColumnTransformer\n",
    "from sklearn.base import TransformerMixin\n",
    "from sklearn.base import BaseEstimator, clone\n",
    "\n",
    "from sklearn import model_selection, preprocessing\n",
    "from sklearn.model_selection import train_test_split\n",
    "from sklearn.preprocessing import MinMaxScaler\n",
    "from sklearn.metrics import roc_auc_score"
   ]
  },
  {
   "cell_type": "code",
   "execution_count": 2,
   "id": "f5168426",
   "metadata": {},
   "outputs": [
    {
     "data": {
      "text/html": [
       "<div>\n",
       "<style scoped>\n",
       "    .dataframe tbody tr th:only-of-type {\n",
       "        vertical-align: middle;\n",
       "    }\n",
       "\n",
       "    .dataframe tbody tr th {\n",
       "        vertical-align: top;\n",
       "    }\n",
       "\n",
       "    .dataframe thead th {\n",
       "        text-align: right;\n",
       "    }\n",
       "</style>\n",
       "<table border=\"1\" class=\"dataframe\">\n",
       "  <thead>\n",
       "    <tr style=\"text-align: right;\">\n",
       "      <th></th>\n",
       "      <th>url</th>\n",
       "      <th>urlid</th>\n",
       "      <th>boilerplate</th>\n",
       "      <th>alchemy_category</th>\n",
       "      <th>alchemy_category_score</th>\n",
       "      <th>avglinksize</th>\n",
       "      <th>commonlinkratio_1</th>\n",
       "      <th>commonlinkratio_2</th>\n",
       "      <th>commonlinkratio_3</th>\n",
       "      <th>commonlinkratio_4</th>\n",
       "      <th>...</th>\n",
       "      <th>is_news</th>\n",
       "      <th>lengthyLinkDomain</th>\n",
       "      <th>linkwordscore</th>\n",
       "      <th>news_front_page</th>\n",
       "      <th>non_markup_alphanum_characters</th>\n",
       "      <th>numberOfLinks</th>\n",
       "      <th>numwords_in_url</th>\n",
       "      <th>parametrizedLinkRatio</th>\n",
       "      <th>spelling_errors_ratio</th>\n",
       "      <th>label</th>\n",
       "    </tr>\n",
       "  </thead>\n",
       "  <tbody>\n",
       "    <tr>\n",
       "      <th>0</th>\n",
       "      <td>http://www.bloomberg.com/news/2010-12-23/ibm-p...</td>\n",
       "      <td>4042</td>\n",
       "      <td>{\"title\":\"IBM Sees Holographic Calls Air Breat...</td>\n",
       "      <td>business</td>\n",
       "      <td>0.789131</td>\n",
       "      <td>2.055556</td>\n",
       "      <td>0.676471</td>\n",
       "      <td>0.205882</td>\n",
       "      <td>0.047059</td>\n",
       "      <td>0.023529</td>\n",
       "      <td>...</td>\n",
       "      <td>1</td>\n",
       "      <td>1</td>\n",
       "      <td>24</td>\n",
       "      <td>0</td>\n",
       "      <td>5424</td>\n",
       "      <td>170</td>\n",
       "      <td>8</td>\n",
       "      <td>0.152941</td>\n",
       "      <td>0.079130</td>\n",
       "      <td>0</td>\n",
       "    </tr>\n",
       "    <tr>\n",
       "      <th>1</th>\n",
       "      <td>http://www.popsci.com/technology/article/2012-...</td>\n",
       "      <td>8471</td>\n",
       "      <td>{\"title\":\"The Fully Electronic Futuristic Star...</td>\n",
       "      <td>recreation</td>\n",
       "      <td>0.574147</td>\n",
       "      <td>3.677966</td>\n",
       "      <td>0.508021</td>\n",
       "      <td>0.288770</td>\n",
       "      <td>0.213904</td>\n",
       "      <td>0.144385</td>\n",
       "      <td>...</td>\n",
       "      <td>1</td>\n",
       "      <td>1</td>\n",
       "      <td>40</td>\n",
       "      <td>0</td>\n",
       "      <td>4973</td>\n",
       "      <td>187</td>\n",
       "      <td>9</td>\n",
       "      <td>0.181818</td>\n",
       "      <td>0.125448</td>\n",
       "      <td>1</td>\n",
       "    </tr>\n",
       "    <tr>\n",
       "      <th>2</th>\n",
       "      <td>http://www.menshealth.com/health/flu-fighting-...</td>\n",
       "      <td>1164</td>\n",
       "      <td>{\"title\":\"Fruits that Fight the Flu fruits tha...</td>\n",
       "      <td>health</td>\n",
       "      <td>0.996526</td>\n",
       "      <td>2.382883</td>\n",
       "      <td>0.562016</td>\n",
       "      <td>0.321705</td>\n",
       "      <td>0.120155</td>\n",
       "      <td>0.042636</td>\n",
       "      <td>...</td>\n",
       "      <td>1</td>\n",
       "      <td>1</td>\n",
       "      <td>55</td>\n",
       "      <td>0</td>\n",
       "      <td>2240</td>\n",
       "      <td>258</td>\n",
       "      <td>11</td>\n",
       "      <td>0.166667</td>\n",
       "      <td>0.057613</td>\n",
       "      <td>1</td>\n",
       "    </tr>\n",
       "    <tr>\n",
       "      <th>3</th>\n",
       "      <td>http://www.dumblittleman.com/2007/12/10-foolpr...</td>\n",
       "      <td>6684</td>\n",
       "      <td>{\"title\":\"10 Foolproof Tips for Better Sleep \"...</td>\n",
       "      <td>health</td>\n",
       "      <td>0.801248</td>\n",
       "      <td>1.543103</td>\n",
       "      <td>0.400000</td>\n",
       "      <td>0.100000</td>\n",
       "      <td>0.016667</td>\n",
       "      <td>0.000000</td>\n",
       "      <td>...</td>\n",
       "      <td>1</td>\n",
       "      <td>0</td>\n",
       "      <td>24</td>\n",
       "      <td>0</td>\n",
       "      <td>2737</td>\n",
       "      <td>120</td>\n",
       "      <td>5</td>\n",
       "      <td>0.041667</td>\n",
       "      <td>0.100858</td>\n",
       "      <td>1</td>\n",
       "    </tr>\n",
       "    <tr>\n",
       "      <th>4</th>\n",
       "      <td>http://bleacherreport.com/articles/1205138-the...</td>\n",
       "      <td>9006</td>\n",
       "      <td>{\"title\":\"The 50 Coolest Jerseys You Didn t Kn...</td>\n",
       "      <td>sports</td>\n",
       "      <td>0.719157</td>\n",
       "      <td>2.676471</td>\n",
       "      <td>0.500000</td>\n",
       "      <td>0.222222</td>\n",
       "      <td>0.123457</td>\n",
       "      <td>0.043210</td>\n",
       "      <td>...</td>\n",
       "      <td>1</td>\n",
       "      <td>1</td>\n",
       "      <td>14</td>\n",
       "      <td>0</td>\n",
       "      <td>12032</td>\n",
       "      <td>162</td>\n",
       "      <td>10</td>\n",
       "      <td>0.098765</td>\n",
       "      <td>0.082569</td>\n",
       "      <td>0</td>\n",
       "    </tr>\n",
       "  </tbody>\n",
       "</table>\n",
       "<p>5 rows × 27 columns</p>\n",
       "</div>"
      ],
      "text/plain": [
       "                                                 url  urlid  \\\n",
       "0  http://www.bloomberg.com/news/2010-12-23/ibm-p...   4042   \n",
       "1  http://www.popsci.com/technology/article/2012-...   8471   \n",
       "2  http://www.menshealth.com/health/flu-fighting-...   1164   \n",
       "3  http://www.dumblittleman.com/2007/12/10-foolpr...   6684   \n",
       "4  http://bleacherreport.com/articles/1205138-the...   9006   \n",
       "\n",
       "                                         boilerplate alchemy_category  \\\n",
       "0  {\"title\":\"IBM Sees Holographic Calls Air Breat...         business   \n",
       "1  {\"title\":\"The Fully Electronic Futuristic Star...       recreation   \n",
       "2  {\"title\":\"Fruits that Fight the Flu fruits tha...           health   \n",
       "3  {\"title\":\"10 Foolproof Tips for Better Sleep \"...           health   \n",
       "4  {\"title\":\"The 50 Coolest Jerseys You Didn t Kn...           sports   \n",
       "\n",
       "  alchemy_category_score  avglinksize  commonlinkratio_1  commonlinkratio_2  \\\n",
       "0               0.789131     2.055556           0.676471           0.205882   \n",
       "1               0.574147     3.677966           0.508021           0.288770   \n",
       "2               0.996526     2.382883           0.562016           0.321705   \n",
       "3               0.801248     1.543103           0.400000           0.100000   \n",
       "4               0.719157     2.676471           0.500000           0.222222   \n",
       "\n",
       "   commonlinkratio_3  commonlinkratio_4  ...  is_news  lengthyLinkDomain  \\\n",
       "0           0.047059           0.023529  ...        1                  1   \n",
       "1           0.213904           0.144385  ...        1                  1   \n",
       "2           0.120155           0.042636  ...        1                  1   \n",
       "3           0.016667           0.000000  ...        1                  0   \n",
       "4           0.123457           0.043210  ...        1                  1   \n",
       "\n",
       "   linkwordscore  news_front_page  non_markup_alphanum_characters  \\\n",
       "0             24                0                            5424   \n",
       "1             40                0                            4973   \n",
       "2             55                0                            2240   \n",
       "3             24                0                            2737   \n",
       "4             14                0                           12032   \n",
       "\n",
       "   numberOfLinks  numwords_in_url parametrizedLinkRatio  \\\n",
       "0            170                8              0.152941   \n",
       "1            187                9              0.181818   \n",
       "2            258               11              0.166667   \n",
       "3            120                5              0.041667   \n",
       "4            162               10              0.098765   \n",
       "\n",
       "   spelling_errors_ratio  label  \n",
       "0               0.079130      0  \n",
       "1               0.125448      1  \n",
       "2               0.057613      1  \n",
       "3               0.100858      1  \n",
       "4               0.082569      0  \n",
       "\n",
       "[5 rows x 27 columns]"
      ]
     },
     "execution_count": 2,
     "metadata": {},
     "output_type": "execute_result"
    }
   ],
   "source": [
    "train_df = pd.read_csv('input/train.tsv', delimiter='\\t')\n",
    "train_df.head()"
   ]
  },
  {
   "cell_type": "code",
   "execution_count": 3,
   "id": "d8ba30a3",
   "metadata": {},
   "outputs": [],
   "source": [
    "train_df.drop(['urlid','is_news','framebased'],axis=1, inplace=True)\n",
    "#URL kolona je izbačena nešto kasnije, pre enkodiranja.  "
   ]
  },
  {
   "cell_type": "markdown",
   "id": "ebc05b02",
   "metadata": {},
   "source": [
    "### Priprema podataka\n",
    "\n",
    "#### Boilerplate kolona"
   ]
  },
  {
   "cell_type": "code",
   "execution_count": 4,
   "id": "18274747",
   "metadata": {},
   "outputs": [],
   "source": [
    "train_df['boilerplate'] = train_df['boilerplate'].replace(to_replace=':null', value=':\"\"', regex=True)"
   ]
  },
  {
   "cell_type": "code",
   "execution_count": 5,
   "id": "42a3c25f",
   "metadata": {},
   "outputs": [
    {
     "data": {
      "text/plain": [
       "dict_keys(['title', 'body', 'url'])"
      ]
     },
     "execution_count": 5,
     "metadata": {},
     "output_type": "execute_result"
    }
   ],
   "source": [
    "train_df.boilerplate=train_df.boilerplate.map(eval)\n",
    "train_df.boilerplate[1].keys()"
   ]
  },
  {
   "cell_type": "code",
   "execution_count": 6,
   "id": "89496289",
   "metadata": {},
   "outputs": [
    {
     "data": {
      "text/plain": [
       "(7395, 24)"
      ]
     },
     "execution_count": 6,
     "metadata": {},
     "output_type": "execute_result"
    }
   ],
   "source": [
    "train_df.shape"
   ]
  },
  {
   "cell_type": "code",
   "execution_count": 7,
   "id": "f468562d",
   "metadata": {},
   "outputs": [],
   "source": [
    "train_df.rename({'url':'full_url'},axis=1, inplace=True)"
   ]
  },
  {
   "cell_type": "code",
   "execution_count": 8,
   "id": "f244f601",
   "metadata": {},
   "outputs": [],
   "source": [
    "train_df=pd.concat([train_df.drop('boilerplate', axis=1),train_df['boilerplate'].apply(pd.Series)], axis=1)"
   ]
  },
  {
   "cell_type": "code",
   "execution_count": 9,
   "id": "7b587fa7",
   "metadata": {},
   "outputs": [
    {
     "data": {
      "text/plain": [
       "(7395, 27)"
      ]
     },
     "execution_count": 9,
     "metadata": {},
     "output_type": "execute_result"
    }
   ],
   "source": [
    "train_df.shape"
   ]
  },
  {
   "cell_type": "code",
   "execution_count": 10,
   "id": "b2c56c2f",
   "metadata": {},
   "outputs": [],
   "source": [
    "train_df.rename({'url':'url_words'},axis=1, inplace=True)\n",
    "train_df.rename({'full_url':'url'},axis=1, inplace=True)"
   ]
  },
  {
   "cell_type": "markdown",
   "id": "943823a3",
   "metadata": {},
   "source": [
    "Nedostajuće vrednosti se pojavljuju u okviru znaka pitanja."
   ]
  },
  {
   "cell_type": "markdown",
   "id": "45105b04",
   "metadata": {},
   "source": [
    "#### Nedostajuće vrednosti kao np.nan"
   ]
  },
  {
   "cell_type": "code",
   "execution_count": 11,
   "id": "138fb59e",
   "metadata": {},
   "outputs": [],
   "source": [
    "train_df.replace(to_replace='?', value=np.nan, inplace=True)"
   ]
  },
  {
   "cell_type": "code",
   "execution_count": 12,
   "id": "c31fd845",
   "metadata": {},
   "outputs": [
    {
     "data": {
      "text/html": [
       "<div>\n",
       "<style scoped>\n",
       "    .dataframe tbody tr th:only-of-type {\n",
       "        vertical-align: middle;\n",
       "    }\n",
       "\n",
       "    .dataframe tbody tr th {\n",
       "        vertical-align: top;\n",
       "    }\n",
       "\n",
       "    .dataframe thead th {\n",
       "        text-align: right;\n",
       "    }\n",
       "</style>\n",
       "<table border=\"1\" class=\"dataframe\">\n",
       "  <thead>\n",
       "    <tr style=\"text-align: right;\">\n",
       "      <th></th>\n",
       "      <th>url</th>\n",
       "      <th>alchemy_category</th>\n",
       "      <th>alchemy_category_score</th>\n",
       "      <th>avglinksize</th>\n",
       "      <th>commonlinkratio_1</th>\n",
       "      <th>commonlinkratio_2</th>\n",
       "      <th>commonlinkratio_3</th>\n",
       "      <th>commonlinkratio_4</th>\n",
       "      <th>compression_ratio</th>\n",
       "      <th>embed_ratio</th>\n",
       "      <th>...</th>\n",
       "      <th>non_markup_alphanum_characters</th>\n",
       "      <th>numberOfLinks</th>\n",
       "      <th>numwords_in_url</th>\n",
       "      <th>parametrizedLinkRatio</th>\n",
       "      <th>spelling_errors_ratio</th>\n",
       "      <th>label</th>\n",
       "      <th>title</th>\n",
       "      <th>body</th>\n",
       "      <th>url_words</th>\n",
       "      <th>related</th>\n",
       "    </tr>\n",
       "  </thead>\n",
       "  <tbody>\n",
       "    <tr>\n",
       "      <th>0</th>\n",
       "      <td>http://www.bloomberg.com/news/2010-12-23/ibm-p...</td>\n",
       "      <td>business</td>\n",
       "      <td>0.789131</td>\n",
       "      <td>2.055556</td>\n",
       "      <td>0.676471</td>\n",
       "      <td>0.205882</td>\n",
       "      <td>0.047059</td>\n",
       "      <td>0.023529</td>\n",
       "      <td>0.443783</td>\n",
       "      <td>0.0</td>\n",
       "      <td>...</td>\n",
       "      <td>5424</td>\n",
       "      <td>170</td>\n",
       "      <td>8</td>\n",
       "      <td>0.152941</td>\n",
       "      <td>0.079130</td>\n",
       "      <td>0</td>\n",
       "      <td>IBM Sees Holographic Calls Air Breathing Batte...</td>\n",
       "      <td>A sign stands outside the International Busine...</td>\n",
       "      <td>bloomberg news 2010 12 23 ibm predicts hologra...</td>\n",
       "      <td>NaN</td>\n",
       "    </tr>\n",
       "    <tr>\n",
       "      <th>1</th>\n",
       "      <td>http://www.popsci.com/technology/article/2012-...</td>\n",
       "      <td>recreation</td>\n",
       "      <td>0.574147</td>\n",
       "      <td>3.677966</td>\n",
       "      <td>0.508021</td>\n",
       "      <td>0.288770</td>\n",
       "      <td>0.213904</td>\n",
       "      <td>0.144385</td>\n",
       "      <td>0.468649</td>\n",
       "      <td>0.0</td>\n",
       "      <td>...</td>\n",
       "      <td>4973</td>\n",
       "      <td>187</td>\n",
       "      <td>9</td>\n",
       "      <td>0.181818</td>\n",
       "      <td>0.125448</td>\n",
       "      <td>1</td>\n",
       "      <td>The Fully Electronic Futuristic Starting Gun T...</td>\n",
       "      <td>And that can be carried on a plane without the...</td>\n",
       "      <td>popsci technology article 2012 07 electronic f...</td>\n",
       "      <td>NaN</td>\n",
       "    </tr>\n",
       "    <tr>\n",
       "      <th>2</th>\n",
       "      <td>http://www.menshealth.com/health/flu-fighting-...</td>\n",
       "      <td>health</td>\n",
       "      <td>0.996526</td>\n",
       "      <td>2.382883</td>\n",
       "      <td>0.562016</td>\n",
       "      <td>0.321705</td>\n",
       "      <td>0.120155</td>\n",
       "      <td>0.042636</td>\n",
       "      <td>0.525448</td>\n",
       "      <td>0.0</td>\n",
       "      <td>...</td>\n",
       "      <td>2240</td>\n",
       "      <td>258</td>\n",
       "      <td>11</td>\n",
       "      <td>0.166667</td>\n",
       "      <td>0.057613</td>\n",
       "      <td>1</td>\n",
       "      <td>Fruits that Fight the Flu fruits that fight th...</td>\n",
       "      <td>Apples The most popular source of antioxidants...</td>\n",
       "      <td>menshealth health flu fighting fruits cm mmc F...</td>\n",
       "      <td>NaN</td>\n",
       "    </tr>\n",
       "    <tr>\n",
       "      <th>3</th>\n",
       "      <td>http://www.dumblittleman.com/2007/12/10-foolpr...</td>\n",
       "      <td>health</td>\n",
       "      <td>0.801248</td>\n",
       "      <td>1.543103</td>\n",
       "      <td>0.400000</td>\n",
       "      <td>0.100000</td>\n",
       "      <td>0.016667</td>\n",
       "      <td>0.000000</td>\n",
       "      <td>0.480725</td>\n",
       "      <td>0.0</td>\n",
       "      <td>...</td>\n",
       "      <td>2737</td>\n",
       "      <td>120</td>\n",
       "      <td>5</td>\n",
       "      <td>0.041667</td>\n",
       "      <td>0.100858</td>\n",
       "      <td>1</td>\n",
       "      <td>10 Foolproof Tips for Better Sleep</td>\n",
       "      <td>There was a period in my life when I had a lot...</td>\n",
       "      <td>dumblittleman 2007 12 10 foolproof tips for be...</td>\n",
       "      <td>NaN</td>\n",
       "    </tr>\n",
       "    <tr>\n",
       "      <th>4</th>\n",
       "      <td>http://bleacherreport.com/articles/1205138-the...</td>\n",
       "      <td>sports</td>\n",
       "      <td>0.719157</td>\n",
       "      <td>2.676471</td>\n",
       "      <td>0.500000</td>\n",
       "      <td>0.222222</td>\n",
       "      <td>0.123457</td>\n",
       "      <td>0.043210</td>\n",
       "      <td>0.446143</td>\n",
       "      <td>0.0</td>\n",
       "      <td>...</td>\n",
       "      <td>12032</td>\n",
       "      <td>162</td>\n",
       "      <td>10</td>\n",
       "      <td>0.098765</td>\n",
       "      <td>0.082569</td>\n",
       "      <td>0</td>\n",
       "      <td>The 50 Coolest Jerseys You Didn t Know Existed...</td>\n",
       "      <td>Jersey sales is a curious business Whether you...</td>\n",
       "      <td>bleacherreport articles 1205138 the 50 coolest...</td>\n",
       "      <td>NaN</td>\n",
       "    </tr>\n",
       "  </tbody>\n",
       "</table>\n",
       "<p>5 rows × 27 columns</p>\n",
       "</div>"
      ],
      "text/plain": [
       "                                                 url alchemy_category  \\\n",
       "0  http://www.bloomberg.com/news/2010-12-23/ibm-p...         business   \n",
       "1  http://www.popsci.com/technology/article/2012-...       recreation   \n",
       "2  http://www.menshealth.com/health/flu-fighting-...           health   \n",
       "3  http://www.dumblittleman.com/2007/12/10-foolpr...           health   \n",
       "4  http://bleacherreport.com/articles/1205138-the...           sports   \n",
       "\n",
       "  alchemy_category_score  avglinksize  commonlinkratio_1  commonlinkratio_2  \\\n",
       "0               0.789131     2.055556           0.676471           0.205882   \n",
       "1               0.574147     3.677966           0.508021           0.288770   \n",
       "2               0.996526     2.382883           0.562016           0.321705   \n",
       "3               0.801248     1.543103           0.400000           0.100000   \n",
       "4               0.719157     2.676471           0.500000           0.222222   \n",
       "\n",
       "   commonlinkratio_3  commonlinkratio_4  compression_ratio  embed_ratio  ...  \\\n",
       "0           0.047059           0.023529           0.443783          0.0  ...   \n",
       "1           0.213904           0.144385           0.468649          0.0  ...   \n",
       "2           0.120155           0.042636           0.525448          0.0  ...   \n",
       "3           0.016667           0.000000           0.480725          0.0  ...   \n",
       "4           0.123457           0.043210           0.446143          0.0  ...   \n",
       "\n",
       "   non_markup_alphanum_characters  numberOfLinks  numwords_in_url  \\\n",
       "0                            5424            170                8   \n",
       "1                            4973            187                9   \n",
       "2                            2240            258               11   \n",
       "3                            2737            120                5   \n",
       "4                           12032            162               10   \n",
       "\n",
       "   parametrizedLinkRatio  spelling_errors_ratio  label  \\\n",
       "0               0.152941               0.079130      0   \n",
       "1               0.181818               0.125448      1   \n",
       "2               0.166667               0.057613      1   \n",
       "3               0.041667               0.100858      1   \n",
       "4               0.098765               0.082569      0   \n",
       "\n",
       "                                               title  \\\n",
       "0  IBM Sees Holographic Calls Air Breathing Batte...   \n",
       "1  The Fully Electronic Futuristic Starting Gun T...   \n",
       "2  Fruits that Fight the Flu fruits that fight th...   \n",
       "3                10 Foolproof Tips for Better Sleep    \n",
       "4  The 50 Coolest Jerseys You Didn t Know Existed...   \n",
       "\n",
       "                                                body  \\\n",
       "0  A sign stands outside the International Busine...   \n",
       "1  And that can be carried on a plane without the...   \n",
       "2  Apples The most popular source of antioxidants...   \n",
       "3  There was a period in my life when I had a lot...   \n",
       "4  Jersey sales is a curious business Whether you...   \n",
       "\n",
       "                                           url_words  related  \n",
       "0  bloomberg news 2010 12 23 ibm predicts hologra...      NaN  \n",
       "1  popsci technology article 2012 07 electronic f...      NaN  \n",
       "2  menshealth health flu fighting fruits cm mmc F...      NaN  \n",
       "3  dumblittleman 2007 12 10 foolproof tips for be...      NaN  \n",
       "4  bleacherreport articles 1205138 the 50 coolest...      NaN  \n",
       "\n",
       "[5 rows x 27 columns]"
      ]
     },
     "execution_count": 12,
     "metadata": {},
     "output_type": "execute_result"
    }
   ],
   "source": [
    "train_df.head()"
   ]
  },
  {
   "cell_type": "markdown",
   "id": "c6f89738",
   "metadata": {},
   "source": [
    "#### Ostale kolone- korekcija tipova"
   ]
  },
  {
   "cell_type": "code",
   "execution_count": 13,
   "id": "1db09967",
   "metadata": {},
   "outputs": [],
   "source": [
    "train_df['alchemy_category_score'] = train_df['alchemy_category_score'].astype(dtype='float')\n",
    "train_df['news_front_page'] = train_df['news_front_page'].astype(dtype='float')"
   ]
  },
  {
   "cell_type": "markdown",
   "id": "40490fb2",
   "metadata": {},
   "source": [
    "#### Podela podataka na X i y"
   ]
  },
  {
   "cell_type": "code",
   "execution_count": 14,
   "id": "f0b281e5",
   "metadata": {},
   "outputs": [],
   "source": [
    "train_df.drop(['url','title','body','url_words'],inplace=True,axis=1)"
   ]
  },
  {
   "cell_type": "code",
   "execution_count": 15,
   "id": "0172c6f1",
   "metadata": {},
   "outputs": [],
   "source": [
    "X=train_df.loc[:, train_df.columns!= 'label']\n",
    "y=train_df['label']"
   ]
  },
  {
   "cell_type": "code",
   "execution_count": 16,
   "id": "de014c95",
   "metadata": {},
   "outputs": [],
   "source": [
    "categorical_cols = list(X.select_dtypes(include='object').columns)\n",
    "numerical_cols = list(X.select_dtypes(exclude='object').columns)"
   ]
  },
  {
   "cell_type": "code",
   "execution_count": 17,
   "id": "46812a70",
   "metadata": {},
   "outputs": [],
   "source": [
    "X.reset_index(inplace = True, drop=True)\n",
    "y.reset_index(inplace = True, drop=True)"
   ]
  },
  {
   "cell_type": "markdown",
   "id": "cde5f7d9",
   "metadata": {},
   "source": [
    "### Podela podataka na train i test"
   ]
  },
  {
   "cell_type": "code",
   "execution_count": 18,
   "id": "6ee15400",
   "metadata": {},
   "outputs": [],
   "source": [
    "X_train, X_test, y_train, y_test = train_test_split(X,\n",
    "                                                    y,\n",
    "                                                    test_size=0.25,\n",
    "                                                    random_state=42)"
   ]
  },
  {
   "cell_type": "markdown",
   "id": "bd2b6daa",
   "metadata": {},
   "source": [
    "### Imputacija nedostajućih vrednosti\n",
    "#### fit i transform- train"
   ]
  },
  {
   "cell_type": "code",
   "execution_count": 19,
   "id": "3108d1d4",
   "metadata": {},
   "outputs": [],
   "source": [
    "class CustomImputer(BaseEstimator, TransformerMixin):\n",
    "    def __init__(self):\n",
    "        self.missing_map = {}\n",
    "\n",
    "    def fit(self, X, y=None):\n",
    "\n",
    "        num_atts = X.select_dtypes(exclude='object').columns.tolist()\n",
    "\n",
    "        for att in num_atts:\n",
    "            self.missing_map.update({att: X[att].median()})\n",
    "\n",
    "        cat_atts = X.select_dtypes(include='object').columns.tolist()\n",
    "\n",
    "        for att in cat_atts:\n",
    "            self.missing_map.update({att: X[att].value_counts().index[0]})\n",
    "\n",
    "        return (self)\n",
    "\n",
    "    def transform(self, X, y=None):\n",
    "\n",
    "        for att, impute_value in self.missing_map.items():\n",
    "            X[att] = X[att].fillna(impute_value)\n",
    "        return (X)"
   ]
  },
  {
   "cell_type": "code",
   "execution_count": 20,
   "id": "a5d1a73b",
   "metadata": {},
   "outputs": [],
   "source": [
    "custom_imputer=CustomImputer().fit(X_train)\n",
    "X_train=custom_imputer.transform(X_train)"
   ]
  },
  {
   "cell_type": "markdown",
   "id": "edb399ff",
   "metadata": {},
   "source": [
    "#### transform- test"
   ]
  },
  {
   "cell_type": "code",
   "execution_count": 21,
   "id": "671766bb",
   "metadata": {},
   "outputs": [],
   "source": [
    "X_test=custom_imputer.transform(X_test)"
   ]
  },
  {
   "cell_type": "code",
   "execution_count": 22,
   "id": "4c32003b",
   "metadata": {},
   "outputs": [],
   "source": [
    "X_test=custom_imputer.transform(X_test) #test df ne sadrži target kolonu."
   ]
  },
  {
   "cell_type": "code",
   "execution_count": 23,
   "id": "5944c0a9",
   "metadata": {},
   "outputs": [],
   "source": [
    "categorical_cols = list(X_train.select_dtypes(include='object').columns)\n",
    "numerical_cols = list(X_train.select_dtypes(exclude='object').columns)"
   ]
  },
  {
   "cell_type": "code",
   "execution_count": 24,
   "id": "628addc0",
   "metadata": {},
   "outputs": [],
   "source": [
    "X_train.reset_index(inplace = True, drop=True) #proveriti da li treba\n",
    "y_train.reset_index(inplace = True, drop=True)\n",
    "\n",
    "X_test.reset_index(inplace = True, drop=True) #proveriti da li treba\n",
    "y_test.reset_index(inplace = True, drop=True)"
   ]
  },
  {
   "cell_type": "markdown",
   "id": "2421c9d4",
   "metadata": {},
   "source": [
    "### Enkodiranje kategoričkih varijabli"
   ]
  },
  {
   "cell_type": "markdown",
   "id": "6dcd9cc8",
   "metadata": {},
   "source": [
    "#### Enkodiranje- train"
   ]
  },
  {
   "cell_type": "code",
   "execution_count": 25,
   "id": "4bac68c5",
   "metadata": {},
   "outputs": [
    {
     "data": {
      "text/html": [
       "<div>\n",
       "<style scoped>\n",
       "    .dataframe tbody tr th:only-of-type {\n",
       "        vertical-align: middle;\n",
       "    }\n",
       "\n",
       "    .dataframe tbody tr th {\n",
       "        vertical-align: top;\n",
       "    }\n",
       "\n",
       "    .dataframe thead th {\n",
       "        text-align: right;\n",
       "    }\n",
       "</style>\n",
       "<table border=\"1\" class=\"dataframe\">\n",
       "  <thead>\n",
       "    <tr style=\"text-align: right;\">\n",
       "      <th></th>\n",
       "      <th>alchemy_category_arts_entertainment</th>\n",
       "      <th>alchemy_category_business</th>\n",
       "      <th>alchemy_category_computer_internet</th>\n",
       "      <th>alchemy_category_culture_politics</th>\n",
       "      <th>alchemy_category_gaming</th>\n",
       "      <th>alchemy_category_health</th>\n",
       "      <th>alchemy_category_law_crime</th>\n",
       "      <th>alchemy_category_recreation</th>\n",
       "      <th>alchemy_category_religion</th>\n",
       "      <th>alchemy_category_science_technology</th>\n",
       "      <th>alchemy_category_sports</th>\n",
       "      <th>alchemy_category_unknown</th>\n",
       "      <th>alchemy_category_weather</th>\n",
       "      <th>related_</th>\n",
       "    </tr>\n",
       "  </thead>\n",
       "  <tbody>\n",
       "    <tr>\n",
       "      <th>0</th>\n",
       "      <td>0</td>\n",
       "      <td>0</td>\n",
       "      <td>0</td>\n",
       "      <td>0</td>\n",
       "      <td>0</td>\n",
       "      <td>0</td>\n",
       "      <td>0</td>\n",
       "      <td>1</td>\n",
       "      <td>0</td>\n",
       "      <td>0</td>\n",
       "      <td>0</td>\n",
       "      <td>0</td>\n",
       "      <td>0</td>\n",
       "      <td>1</td>\n",
       "    </tr>\n",
       "    <tr>\n",
       "      <th>1</th>\n",
       "      <td>0</td>\n",
       "      <td>0</td>\n",
       "      <td>0</td>\n",
       "      <td>1</td>\n",
       "      <td>0</td>\n",
       "      <td>0</td>\n",
       "      <td>0</td>\n",
       "      <td>0</td>\n",
       "      <td>0</td>\n",
       "      <td>0</td>\n",
       "      <td>0</td>\n",
       "      <td>0</td>\n",
       "      <td>0</td>\n",
       "      <td>1</td>\n",
       "    </tr>\n",
       "    <tr>\n",
       "      <th>2</th>\n",
       "      <td>0</td>\n",
       "      <td>0</td>\n",
       "      <td>0</td>\n",
       "      <td>0</td>\n",
       "      <td>0</td>\n",
       "      <td>0</td>\n",
       "      <td>0</td>\n",
       "      <td>1</td>\n",
       "      <td>0</td>\n",
       "      <td>0</td>\n",
       "      <td>0</td>\n",
       "      <td>0</td>\n",
       "      <td>0</td>\n",
       "      <td>1</td>\n",
       "    </tr>\n",
       "    <tr>\n",
       "      <th>3</th>\n",
       "      <td>0</td>\n",
       "      <td>0</td>\n",
       "      <td>0</td>\n",
       "      <td>0</td>\n",
       "      <td>0</td>\n",
       "      <td>0</td>\n",
       "      <td>0</td>\n",
       "      <td>1</td>\n",
       "      <td>0</td>\n",
       "      <td>0</td>\n",
       "      <td>0</td>\n",
       "      <td>0</td>\n",
       "      <td>0</td>\n",
       "      <td>1</td>\n",
       "    </tr>\n",
       "    <tr>\n",
       "      <th>4</th>\n",
       "      <td>1</td>\n",
       "      <td>0</td>\n",
       "      <td>0</td>\n",
       "      <td>0</td>\n",
       "      <td>0</td>\n",
       "      <td>0</td>\n",
       "      <td>0</td>\n",
       "      <td>0</td>\n",
       "      <td>0</td>\n",
       "      <td>0</td>\n",
       "      <td>0</td>\n",
       "      <td>0</td>\n",
       "      <td>0</td>\n",
       "      <td>1</td>\n",
       "    </tr>\n",
       "  </tbody>\n",
       "</table>\n",
       "</div>"
      ],
      "text/plain": [
       "   alchemy_category_arts_entertainment  alchemy_category_business  \\\n",
       "0                                    0                          0   \n",
       "1                                    0                          0   \n",
       "2                                    0                          0   \n",
       "3                                    0                          0   \n",
       "4                                    1                          0   \n",
       "\n",
       "   alchemy_category_computer_internet  alchemy_category_culture_politics  \\\n",
       "0                                   0                                  0   \n",
       "1                                   0                                  1   \n",
       "2                                   0                                  0   \n",
       "3                                   0                                  0   \n",
       "4                                   0                                  0   \n",
       "\n",
       "   alchemy_category_gaming  alchemy_category_health  \\\n",
       "0                        0                        0   \n",
       "1                        0                        0   \n",
       "2                        0                        0   \n",
       "3                        0                        0   \n",
       "4                        0                        0   \n",
       "\n",
       "   alchemy_category_law_crime  alchemy_category_recreation  \\\n",
       "0                           0                            1   \n",
       "1                           0                            0   \n",
       "2                           0                            1   \n",
       "3                           0                            1   \n",
       "4                           0                            0   \n",
       "\n",
       "   alchemy_category_religion  alchemy_category_science_technology  \\\n",
       "0                          0                                    0   \n",
       "1                          0                                    0   \n",
       "2                          0                                    0   \n",
       "3                          0                                    0   \n",
       "4                          0                                    0   \n",
       "\n",
       "   alchemy_category_sports  alchemy_category_unknown  \\\n",
       "0                        0                         0   \n",
       "1                        0                         0   \n",
       "2                        0                         0   \n",
       "3                        0                         0   \n",
       "4                        0                         0   \n",
       "\n",
       "   alchemy_category_weather  related_  \n",
       "0                         0         1  \n",
       "1                         0         1  \n",
       "2                         0         1  \n",
       "3                         0         1  \n",
       "4                         0         1  "
      ]
     },
     "execution_count": 25,
     "metadata": {},
     "output_type": "execute_result"
    }
   ],
   "source": [
    "from sklearn.preprocessing import OneHotEncoder\n",
    "enc = OneHotEncoder(dtype=np.int8).fit(X_train[categorical_cols])\n",
    "\n",
    "X_new = pd.DataFrame(enc.transform(X_train[categorical_cols]).toarray())\n",
    "X_new.columns = enc.get_feature_names(categorical_cols)\n",
    "\n",
    "X_new.head()"
   ]
  },
  {
   "cell_type": "code",
   "execution_count": 26,
   "id": "b87ec49a",
   "metadata": {},
   "outputs": [],
   "source": [
    "X_train=pd.concat([X_train[numerical_cols],X_new], axis=1)"
   ]
  },
  {
   "cell_type": "markdown",
   "id": "8c702380",
   "metadata": {},
   "source": [
    "#### Enkodiranje- test"
   ]
  },
  {
   "cell_type": "code",
   "execution_count": 27,
   "id": "c4d803bd",
   "metadata": {},
   "outputs": [],
   "source": [
    "X_new = pd.DataFrame(enc.transform(X_test[categorical_cols]).toarray())\n",
    "X_new.columns = enc.get_feature_names(categorical_cols)"
   ]
  },
  {
   "cell_type": "code",
   "execution_count": 28,
   "id": "2c3d8297",
   "metadata": {},
   "outputs": [],
   "source": [
    "X_test=pd.concat([X_test[numerical_cols],X_new], axis=1)"
   ]
  },
  {
   "cell_type": "code",
   "execution_count": 29,
   "id": "7e5099ed",
   "metadata": {},
   "outputs": [],
   "source": [
    "X_train.reset_index(inplace = True, drop=True) #proveriti da li treba\n",
    "y_train.reset_index(inplace = True, drop=True)\n",
    "#just in case\n",
    "X_test.reset_index(inplace = True, drop=True) #proveriti da li treba\n",
    "y_test.reset_index(inplace = True, drop=True)"
   ]
  },
  {
   "cell_type": "code",
   "execution_count": 30,
   "id": "2d3b4161",
   "metadata": {},
   "outputs": [
    {
     "data": {
      "text/plain": [
       "0"
      ]
     },
     "execution_count": 30,
     "metadata": {},
     "output_type": "execute_result"
    }
   ],
   "source": [
    "X_train.isna().sum().sum()"
   ]
  },
  {
   "cell_type": "markdown",
   "id": "b3ac49b5",
   "metadata": {},
   "source": [
    "Metrika je area under the ROC curve. "
   ]
  },
  {
   "cell_type": "markdown",
   "id": "3c18e845",
   "metadata": {},
   "source": [
    "### Skaliranje podataka"
   ]
  },
  {
   "cell_type": "code",
   "execution_count": 31,
   "id": "6c1a7212",
   "metadata": {},
   "outputs": [],
   "source": [
    "categorical_cols = list(X_train.select_dtypes(include='object').columns)\n",
    "numerical_cols = list(X_train.select_dtypes(exclude='object').columns)"
   ]
  },
  {
   "cell_type": "markdown",
   "id": "1ae482dd",
   "metadata": {},
   "source": [
    "#### Skaliranje- train"
   ]
  },
  {
   "cell_type": "code",
   "execution_count": 32,
   "id": "236d9b70",
   "metadata": {},
   "outputs": [],
   "source": [
    "scaler = MinMaxScaler()\n",
    "scaler.fit(X_train[numerical_cols])\n",
    "X_train[numerical_cols]=scaler.transform(X_train[numerical_cols])"
   ]
  },
  {
   "cell_type": "markdown",
   "id": "b5ced22e",
   "metadata": {},
   "source": [
    "#### Skaliranje- test"
   ]
  },
  {
   "cell_type": "code",
   "execution_count": 33,
   "id": "70eacec4",
   "metadata": {},
   "outputs": [],
   "source": [
    "X_test[numerical_cols]=scaler.transform(X_test[numerical_cols])"
   ]
  },
  {
   "cell_type": "code",
   "execution_count": 34,
   "id": "09209298",
   "metadata": {},
   "outputs": [],
   "source": [
    "categorical_cols = list(X.select_dtypes(include='object').columns)\n",
    "numerical_cols = list(X.select_dtypes(exclude='object').columns)"
   ]
  },
  {
   "cell_type": "markdown",
   "id": "16d3af2a",
   "metadata": {},
   "source": [
    "### Izbacivanje outliera"
   ]
  },
  {
   "cell_type": "code",
   "execution_count": 35,
   "id": "9be21346",
   "metadata": {},
   "outputs": [],
   "source": [
    "categorical_cols = list(X_train.select_dtypes(include='object').columns)\n",
    "numerical_cols = list(X_train.select_dtypes(exclude='object').columns)"
   ]
  },
  {
   "cell_type": "code",
   "execution_count": 36,
   "id": "ee121d9d",
   "metadata": {},
   "outputs": [],
   "source": [
    "z = np.abs(stats.zscore(X_train[numerical_cols]))\n",
    "X_train['is_outlier'] = (np.any(z > 3, axis = 1)) "
   ]
  },
  {
   "cell_type": "code",
   "execution_count": 37,
   "id": "f3f0d9dd",
   "metadata": {},
   "outputs": [],
   "source": [
    "X_train['label'] = y_train\n",
    "del X_train['is_outlier']"
   ]
  },
  {
   "cell_type": "code",
   "execution_count": 38,
   "id": "dbc5df06",
   "metadata": {},
   "outputs": [],
   "source": [
    "y_train=X_train['label']"
   ]
  },
  {
   "cell_type": "code",
   "execution_count": 39,
   "id": "58b477d6",
   "metadata": {},
   "outputs": [],
   "source": [
    "del X_train['label']"
   ]
  },
  {
   "cell_type": "code",
   "execution_count": 40,
   "id": "3c5ed6df",
   "metadata": {},
   "outputs": [],
   "source": [
    "X_train.reset_index(inplace = True, drop=True)\n",
    "y_train.reset_index(inplace = True, drop=True)"
   ]
  },
  {
   "cell_type": "code",
   "execution_count": 41,
   "id": "914740ff",
   "metadata": {},
   "outputs": [
    {
     "data": {
      "text/plain": [
       "((5546, 34), (5546,))"
      ]
     },
     "execution_count": 41,
     "metadata": {},
     "output_type": "execute_result"
    }
   ],
   "source": [
    "X_train.shape,y_train.shape"
   ]
  },
  {
   "cell_type": "markdown",
   "id": "58bba8ed",
   "metadata": {},
   "source": [
    "### Kreiranje osnovnog modela"
   ]
  },
  {
   "cell_type": "code",
   "execution_count": 42,
   "id": "6571210d",
   "metadata": {},
   "outputs": [],
   "source": [
    "from sklearn.linear_model import LogisticRegression\n",
    "\n",
    "model = LogisticRegression()"
   ]
  },
  {
   "cell_type": "code",
   "execution_count": 43,
   "id": "5b5879e3",
   "metadata": {},
   "outputs": [
    {
     "data": {
      "text/plain": [
       "0.6607287185843288"
      ]
     },
     "execution_count": 43,
     "metadata": {},
     "output_type": "execute_result"
    }
   ],
   "source": [
    "model.fit(X_train,y_train)\n",
    "roc_auc_score(y_train, model.predict(X_train))"
   ]
  },
  {
   "cell_type": "code",
   "execution_count": 44,
   "id": "81c470e6",
   "metadata": {},
   "outputs": [
    {
     "data": {
      "text/plain": [
       "0.6491224683211063"
      ]
     },
     "execution_count": 44,
     "metadata": {},
     "output_type": "execute_result"
    }
   ],
   "source": [
    "roc_auc_score(y_test, model.predict(X_test))"
   ]
  },
  {
   "cell_type": "code",
   "execution_count": 45,
   "id": "a66cd557",
   "metadata": {},
   "outputs": [],
   "source": [
    "#osnovni model, sa izbacenim tekstualnim kategorijama, svim osim alchemy_category, daju auc od 0.6 na trainu i na test setu.\n",
    "#brzo izvrsavanje\n",
    "#grupisanje retkih članaka kod alchemy_category dalo je nešto lošiji rezultat, 0.59, ali držaćemo se ovog sa rezultatom od 0.6\n",
    "#skaliranjem smo sa 0.6 skočili na 0.66 na trening odnosno 0.65 na test setu."
   ]
  },
  {
   "cell_type": "code",
   "execution_count": null,
   "id": "565a897b",
   "metadata": {},
   "outputs": [],
   "source": []
  }
 ],
 "metadata": {
  "kernelspec": {
   "display_name": "Python 3",
   "language": "python",
   "name": "python3"
  },
  "language_info": {
   "codemirror_mode": {
    "name": "ipython",
    "version": 3
   },
   "file_extension": ".py",
   "mimetype": "text/x-python",
   "name": "python",
   "nbconvert_exporter": "python",
   "pygments_lexer": "ipython3",
   "version": "3.8.8"
  },
  "toc": {
   "base_numbering": 1,
   "nav_menu": {},
   "number_sections": true,
   "sideBar": true,
   "skip_h1_title": false,
   "title_cell": "Table of Contents",
   "title_sidebar": "Contents",
   "toc_cell": false,
   "toc_position": {},
   "toc_section_display": true,
   "toc_window_display": false
  }
 },
 "nbformat": 4,
 "nbformat_minor": 5
}
